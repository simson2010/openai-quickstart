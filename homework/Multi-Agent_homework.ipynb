{
 "cells": [
  {
   "cell_type": "markdown",
   "id": "c68da8cc-0a8c-4a30-9b89-cf6420140b01",
   "metadata": {},
   "source": [
    "# Multi-Agent Homework\n",
    "\n",
    "---\n"
   ]
  },
  {
   "cell_type": "code",
   "execution_count": 45,
   "id": "4ddb4c34-6ca6-4044-8c82-267c4e9980e4",
   "metadata": {},
   "outputs": [],
   "source": [
    "%%capture --no-stderr\n",
    "%pip install langchain langchain_openai langsmith pandas langchain_experimental matplotlib langgraph langchain_core"
   ]
  },
  {
   "cell_type": "code",
   "execution_count": 1,
   "id": "7dea1145-1c12-4f5b-976e-02625a1dc95c",
   "metadata": {},
   "outputs": [],
   "source": []
  },
  {
   "cell_type": "markdown",
   "id": "473d6217-9218-416a-9bc7-7f878fda3fe7",
   "metadata": {
    "jp-MarkdownHeadingCollapsed": true
   },
   "source": [
    "## Test Model \n",
    "- OpenAI gpt-4o-mini\n",
    "- MiniMax \n",
    "- Kimi\n",
    "- ChatGLM 4 Flash\n"
   ]
  },
  {
   "cell_type": "code",
   "execution_count": 2,
   "id": "fb6f9bcc-534a-43fe-bdbf-c2af4d30d400",
   "metadata": {},
   "outputs": [
    {
     "data": {
      "text/plain": [
       "'你好！我是Kimi，由一群充满热情的人工智能专家创建的智能助手。我擅长中文和英文的对话，并且可以帮助你获取信息、解答疑问、阅读文件和网页内容。如果你有任何问题或需要帮助，随时可以告诉我，我会尽力为你提供支持。现在，有什么可以帮你的吗？'"
      ]
     },
     "execution_count": 2,
     "metadata": {},
     "output_type": "execute_result"
    }
   ],
   "source": [
    "# Test Kimi API\n",
    "from langchain_openai import ChatOpenAI\n",
    "import os\n",
    "\n",
    "kimiModel=\"moonshot-v1-32k\"\n",
    "# kimiModel=\"moonshot-v1-32k\"\n",
    "# kimiModel=\"moonshot-v1-128k\"\n",
    "kimi_chat = ChatOpenAI(model=kimiModel, api_key=os.environ[\"KIMI_API_KEY\"], base_url=\"https://api.moonshot.cn/v1\")\n",
    "kimi_chat.invoke(\"你可以做什么，做过自我介绍吧\").content"
   ]
  },
  {
   "cell_type": "code",
   "execution_count": 3,
   "id": "4d55b913-a18c-45b0-86c4-8b92259fed8e",
   "metadata": {},
   "outputs": [
    {
     "data": {
      "text/plain": [
       "'当然可以。\\n\\n您好，我是一个人工智能助手，名为 ChatGLM。我是基于清华大学 KEG 实验室和智谱 AI 公司于 2024 年共同训练的语言模型 GLM-4 开发的。我的任务是针对用户的问题和要求提供适当的答复和支持。\\n\\n以下是我能做的事情：\\n\\n1. **回答问题**：我可以回答各种领域的问题，包括科学、技术、历史、文化、生活常识等。\\n2. **辅助创作**：我可以帮助用户创作文章、诗歌、故事等。\\n3. **语言翻译**：我支持多种语言的翻译。\\n4. **学习辅导**：我可以提供一些学习资源和辅导，帮助用户提高学习效率。\\n5. **生活建议**：我可以根据用户的需求提供一些建议和帮助。\\n\\n我的目标是成为一个可靠、有用的人工智能助手，为用户提供帮助。如果您有任何问题或需要帮助，随时可以问我。'"
      ]
     },
     "execution_count": 3,
     "metadata": {},
     "output_type": "execute_result"
    }
   ],
   "source": [
    "# Test ChatGLM API\n",
    "from langchain_openai import ChatOpenAI\n",
    "import os\n",
    "\n",
    "glmModel=\"glm-4-flash\"\n",
    "chatglm_chat = ChatOpenAI(model=glmModel, api_key=os.environ[\"CHATGLM-API-KEY\"], base_url=\"https://open.bigmodel.cn/api/paas/v4\")\n",
    "chatglm_chat.invoke(\"你可以做什么，做过自我介绍吧\").content"
   ]
  },
  {
   "cell_type": "code",
   "execution_count": 4,
   "id": "f5175bb4-d884-471d-a84a-abdfdb33506a",
   "metadata": {},
   "outputs": [
    {
     "data": {
      "text/plain": [
       "AIMessage(content='我是MM智能助理，一个由MiniMax公司自研的大型语言模型。我可以帮助回答问题、提供信息、解决问题和进行对话等。如果你有任何问题或需要帮助，请随时告诉我！', additional_kwargs={'refusal': None}, response_metadata={'token_usage': {'completion_tokens': None, 'prompt_tokens': None, 'total_tokens': 108, 'total_characters': 0}, 'model_name': 'abab6.5s-chat', 'system_fingerprint': None, 'finish_reason': 'stop', 'logprobs': None}, name='MM智能助理', id='run-524e0e49-e60e-4d9f-a261-34d63db2f188-0', usage_metadata={'input_tokens': None, 'output_tokens': None, 'total_tokens': 108})"
      ]
     },
     "execution_count": 4,
     "metadata": {},
     "output_type": "execute_result"
    }
   ],
   "source": [
    "#Test miniMax API\n",
    "from langchain_openai import ChatOpenAI\n",
    "import os\n",
    "\n",
    "miniMaxModel='abab6.5s-chat'\n",
    "\n",
    "miniMax_chat = ChatOpenAI(model=miniMaxModel, api_key=os.environ[\"MINIMAX_API_KEY\"], base_url=\"https://api.minimax.chat/v1\")\n",
    "miniMax_chat.invoke(\"你是谁\")"
   ]
  },
  {
   "cell_type": "code",
   "execution_count": 5,
   "id": "0bf8b323-2adc-4fad-8176-e5ece77743a0",
   "metadata": {},
   "outputs": [
    {
     "data": {
      "text/plain": [
       "AIMessage(content='Hello! I am an AI language model created by OpenAI, known as ChatGPT. My primary function is to assist users by providing information, answering questions, and engaging in conversations on a wide range of topics. I am designed to understand and generate human-like text, making it easier for users to interact with me.\\n\\nAs for my \"company,\" I am part of OpenAI, an artificial intelligence research organization that aims to ensure that artificial general intelligence (AGI) benefits all of humanity. OpenAI conducts research in various areas of AI, focusing on safety, ethics, and practical applications. The organization is committed to promoting and developing friendly AI while addressing the challenges and implications that come with advanced AI technologies.\\n\\nIf you have specific questions or topics you\\'d like to discuss, feel free to ask!', additional_kwargs={'refusal': None}, response_metadata={'token_usage': {'completion_tokens': 159, 'prompt_tokens': 21, 'total_tokens': 180, 'completion_tokens_details': {'reasoning_tokens': 0}}, 'model_name': 'gpt-4o-mini-2024-07-18', 'system_fingerprint': 'fp_483d39d857', 'finish_reason': 'stop', 'logprobs': None}, id='run-b29a749e-f530-4ef2-a87d-a7b1dfbf753b-0', usage_metadata={'input_tokens': 21, 'output_tokens': 159, 'total_tokens': 180})"
      ]
     },
     "execution_count": 5,
     "metadata": {},
     "output_type": "execute_result"
    }
   ],
   "source": [
    "#Test Open API gpt-4o-mini\n",
    "from langchain_openai import ChatOpenAI\n",
    "import os\n",
    "\n",
    "openai_chat = ChatOpenAI(model='gpt-4o-mini')\n",
    "openai_chat.invoke(\"Please introduce yourself in English and more detail about you and your company.\")"
   ]
  },
  {
   "cell_type": "code",
   "execution_count": null,
   "id": "55177ac8-3ad8-4522-8873-b60ee6cb1edc",
   "metadata": {},
   "outputs": [],
   "source": []
  },
  {
   "cell_type": "markdown",
   "id": "4948304e-8db1-4aea-8cc2-3a7e2ab44482",
   "metadata": {
    "jp-MarkdownHeadingCollapsed": true
   },
   "source": [
    "## setup test dataset using LangSmith\n"
   ]
  },
  {
   "cell_type": "code",
   "execution_count": 7,
   "id": "5d15cded-723a-41eb-b504-0e99d7273e84",
   "metadata": {},
   "outputs": [],
   "source": [
    "from langsmith import Client\n",
    "\n",
    "client = Client()\n",
    "\n",
    "# Define dataset: these are your test cases\n",
    "dataset_name = \"QA homework Dataset\"\n",
    "try:\n",
    "    dataset = client.create_dataset(dataset_name)\n",
    "    client.create_examples(\n",
    "        inputs=[\n",
    "            {\"question\": \"What is LangChain?\"},\n",
    "            {\"question\": \"What is LangSmith?\"},\n",
    "            {\"question\": \"What is OpenAI?\"},\n",
    "            {\"question\": \"What is Google?\"},\n",
    "            {\"question\": \"What is Mistral?\"},\n",
    "        ],\n",
    "        outputs=[\n",
    "            {\"answer\": \"LangChain is a framework for developing applications powered by language models.\"},\n",
    "            {\"answer\": \"LangSmith is a platform that helps developers build, test, and manage language model applications.\"},\n",
    "            {\"answer\": \"OpenAI is an artificial intelligence research organization known for its development of AI models, including GPT.\"},\n",
    "            {\"answer\": \"Google is a multinational technology company specializing in Internet-related services and products.\"},\n",
    "            {\"answer\": \"Mistral is an AI startup focused on developing advanced open-weight language models.\"}\n",
    "        ],\n",
    "        dataset_id=dataset.id,\n",
    "    )\n",
    "except:\n",
    "    dataset = client.list_datasets(dataset_name=\"My Test Dataset 1\")"
   ]
  },
  {
   "cell_type": "code",
   "execution_count": 8,
   "id": "5c3fd328-e8f4-4b2f-90ea-1e1e3505f88d",
   "metadata": {},
   "outputs": [],
   "source": [
    "dataset = client.list_datasets(dataset_name=dataset_name)"
   ]
  },
  {
   "cell_type": "code",
   "execution_count": 8,
   "id": "a0c45aa6-08a4-4b42-b90a-ead05ac5d206",
   "metadata": {},
   "outputs": [
    {
     "data": {
      "text/plain": [
       "<generator object Client.list_datasets at 0x000001F86C0407C0>"
      ]
     },
     "execution_count": 8,
     "metadata": {},
     "output_type": "execute_result"
    }
   ],
   "source": [
    "dataset"
   ]
  },
  {
   "cell_type": "code",
   "execution_count": 9,
   "id": "058be379-92be-4ee1-a779-c183e73a8943",
   "metadata": {},
   "outputs": [],
   "source": [
    "# test model with dataset in LangSmit\n",
    "\n",
    "from langchain_core.prompts.prompt import PromptTemplate\n",
    "from langsmith.evaluation import LangChainStringEvaluator\n",
    "from langchain_openai import ChatOpenAI\n",
    "\n",
    "evaluate_llm = ChatOpenAI(model=\"gpt-4o\")\n",
    "\n",
    "_PROMPT_TEMPLATE = \"\"\"You are an expert professor specialized in grading students' answers to questions.\n",
    "You are grading the following question:\n",
    "{query}\n",
    "Here is the real answer:\n",
    "{answer}\n",
    "You are grading the following predicted answer:\n",
    "{result}\n",
    "Respond with CORRECT or INCORRECT:\n",
    "Grade:\n",
    "\"\"\"\n",
    "\n",
    "PROMPT = PromptTemplate(\n",
    "    input_variables=[\"query\", \"answer\", \"result\"], template=_PROMPT_TEMPLATE\n",
    ")\n",
    "\n",
    "qa_evaluator = LangChainStringEvaluator(\"qa\", config={\"llm\": evaluate_llm, \"prompt\": PROMPT})\n"
   ]
  },
  {
   "cell_type": "code",
   "execution_count": 10,
   "id": "158af30c-2290-49df-9560-90c7c92917a5",
   "metadata": {},
   "outputs": [
    {
     "data": {
      "text/plain": [
       "<langsmith.evaluation.integrations._langchain.LangChainStringEvaluator at 0x1f86c2d8210>"
      ]
     },
     "execution_count": 10,
     "metadata": {},
     "output_type": "execute_result"
    }
   ],
   "source": [
    "qa_evaluator"
   ]
  },
  {
   "cell_type": "code",
   "execution_count": 10,
   "id": "84ce29af-5579-404d-b181-10a2f440905d",
   "metadata": {},
   "outputs": [],
   "source": [
    "# define evaluate_length method\n",
    "\n",
    "from langsmith.schemas import Run, Example\n",
    "\n",
    "def evaluate_length(run: Run, example: Example) -> dict:\n",
    "    prediction = run.outputs.get(\"output\") or \"\"\n",
    "    required = example.outputs.get(\"answer\") or \"\"\n",
    "    score = int(len(prediction) < 2 * len(required))\n",
    "    return {\"key\":\"length\", \"score\": score}\n",
    "    "
   ]
  },
  {
   "cell_type": "code",
   "execution_count": 12,
   "id": "56ce3d71-0581-4024-a112-9479227fa8a7",
   "metadata": {},
   "outputs": [],
   "source": [
    "# run evaluate\n",
    "from langchain_core.prompts import ChatPromptTemplate\n",
    "\n",
    "def my_app(question):\n",
    "    # return miniMax_chat.invoke(question).content\n",
    "    prompt = ChatPromptTemplate.from_messages(\n",
    "        [ \n",
    "            (\"system\",\"Respond to the users question in a short, concise manner (one short sentence).\"),\n",
    "            (\"user\",\"{question}\")\n",
    "        ]\n",
    "    )\n",
    "    chat = prompt | openai_chat\n",
    "    return chat.invoke({\"question\":question}).content\n",
    "    \n",
    "\n",
    "\n",
    "# my_app('who are you?')\n"
   ]
  },
  {
   "cell_type": "code",
   "execution_count": 13,
   "id": "6ec1bfca-4a13-492e-96ac-6954b4adc6a8",
   "metadata": {},
   "outputs": [],
   "source": [
    "def langsmith_app(inputs):\n",
    "    output = my_app(inputs[\"question\"])\n",
    "    return {\"output\": output}\n",
    "    "
   ]
  },
  {
   "cell_type": "code",
   "execution_count": 14,
   "id": "b563bdcf-ac64-4b27-8d1c-19e4e0ecc2b8",
   "metadata": {},
   "outputs": [
    {
     "name": "stdout",
     "output_type": "stream",
     "text": [
      "View the evaluation results for experiment: 'GPT-4o-Mini-2-2df54fcb' at:\n",
      "https://smith.langchain.com/o/986a6d93-fbb4-5bfd-bbb4-29e09bf31f1c/datasets/90c9520a-5491-432c-bb67-be4ce853b7e0/compare?selectedSessions=0a0271ac-a12e-4706-b929-5ca9db14c6d5\n",
      "\n",
      "\n"
     ]
    },
    {
     "data": {
      "application/vnd.jupyter.widget-view+json": {
       "model_id": "8b678b63772c4860b0d3aa0e831c9e11",
       "version_major": 2,
       "version_minor": 0
      },
      "text/plain": [
       "0it [00:00, ?it/s]"
      ]
     },
     "metadata": {},
     "output_type": "display_data"
    }
   ],
   "source": [
    "from langsmith.evaluation import evaluate\n",
    "\n",
    "experiment_results = evaluate(\n",
    "    langsmith_app, # Your AI system\n",
    "    data=dataset_name, # The data to predict and grade over\n",
    "    evaluators=[evaluate_length, qa_evaluator], # The evaluators to score the results\n",
    "    experiment_prefix=\"GPT-4o-Mini-2\", # A prefix for your experiment names to easily identify them\n",
    ")"
   ]
  },
  {
   "cell_type": "code",
   "execution_count": 16,
   "id": "af58d2e9-7a74-46b4-8946-ab232bedb673",
   "metadata": {},
   "outputs": [
    {
     "data": {
      "text/plain": [
       "<ExperimentResults GPT-4o-Mini-2-2df54fcb>"
      ]
     },
     "execution_count": 16,
     "metadata": {},
     "output_type": "execute_result"
    }
   ],
   "source": [
    "experiment_results\n"
   ]
  },
  {
   "cell_type": "code",
   "execution_count": 18,
   "id": "8473318d-d4e5-4c2d-a006-b515d33448f3",
   "metadata": {},
   "outputs": [],
   "source": [
    "for i, result in enumerate(experiment_results):  # doctest: +ELLIPSIS\n",
    "        pass"
   ]
  },
  {
   "cell_type": "code",
   "execution_count": 19,
   "id": "9fc5e970-6fd9-4087-a0ec-bd68ab05cf72",
   "metadata": {},
   "outputs": [
    {
     "data": {
      "text/plain": [
       "'GPT-4o-Mini-2-2df54fcb'"
      ]
     },
     "execution_count": 19,
     "metadata": {},
     "output_type": "execute_result"
    }
   ],
   "source": [
    "import langsmith\n",
    "import pandas \n",
    "\n",
    "experiment_results.experiment_name\n"
   ]
  },
  {
   "cell_type": "code",
   "execution_count": 20,
   "id": "4d85eacd-9e3c-46e8-a8ce-707feec4d3bd",
   "metadata": {},
   "outputs": [
    {
     "name": "stderr",
     "output_type": "stream",
     "text": [
      "C:\\Users\\simso\\AppData\\Local\\Temp\\ipykernel_14376\\3888799184.py:2: UserWarning: Function get_test_results is in beta.\n",
      "  re = client.get_test_results(project_name=experiment_name)\n"
     ]
    },
    {
     "name": "stdout",
     "output_type": "stream",
     "text": [
      "score:4.0 \n",
      "\n",
      "\n"
     ]
    },
    {
     "data": {
      "text/html": [
       "<div>\n",
       "<style scoped>\n",
       "    .dataframe tbody tr th:only-of-type {\n",
       "        vertical-align: middle;\n",
       "    }\n",
       "\n",
       "    .dataframe tbody tr th {\n",
       "        vertical-align: top;\n",
       "    }\n",
       "\n",
       "    .dataframe thead th {\n",
       "        text-align: right;\n",
       "    }\n",
       "</style>\n",
       "<table border=\"1\" class=\"dataframe\">\n",
       "  <thead>\n",
       "    <tr style=\"text-align: right;\">\n",
       "      <th></th>\n",
       "      <th>reference.answer</th>\n",
       "      <th>outputs.output</th>\n",
       "      <th>execution_time</th>\n",
       "      <th>error</th>\n",
       "      <th>id</th>\n",
       "      <th>feedback.correctness</th>\n",
       "      <th>feedback.length</th>\n",
       "      <th>input.inputs.question</th>\n",
       "    </tr>\n",
       "  </thead>\n",
       "  <tbody>\n",
       "    <tr>\n",
       "      <th>0</th>\n",
       "      <td>A company that creates Large Language Models</td>\n",
       "      <td>Mistral is an open-source large language model...</td>\n",
       "      <td>43.136775</td>\n",
       "      <td>None</td>\n",
       "      <td>b1b4ff81-69d6-4d1c-a0e0-49efefc0b7d9</td>\n",
       "      <td>1.0</td>\n",
       "      <td>0.0</td>\n",
       "      <td>What is Mistral?</td>\n",
       "    </tr>\n",
       "    <tr>\n",
       "      <th>1</th>\n",
       "      <td>A platform for observing and evaluating LLM ap...</td>\n",
       "      <td>LangSmith is a tool designed for building and ...</td>\n",
       "      <td>1.251573</td>\n",
       "      <td>None</td>\n",
       "      <td>05edf89b-2698-41fa-916e-5a69019a8307</td>\n",
       "      <td>0.0</td>\n",
       "      <td>1.0</td>\n",
       "      <td>What is LangSmith?</td>\n",
       "    </tr>\n",
       "    <tr>\n",
       "      <th>2</th>\n",
       "      <td>A framework for building LLM applications</td>\n",
       "      <td>LangChain is a framework for developing applic...</td>\n",
       "      <td>1.175065</td>\n",
       "      <td>None</td>\n",
       "      <td>a618e89d-9966-4358-94db-3565d5b05384</td>\n",
       "      <td>1.0</td>\n",
       "      <td>1.0</td>\n",
       "      <td>What is LangChain?</td>\n",
       "    </tr>\n",
       "    <tr>\n",
       "      <th>3</th>\n",
       "      <td>A company that creates Large Language Models</td>\n",
       "      <td>OpenAI is an artificial intelligence research ...</td>\n",
       "      <td>22.120883</td>\n",
       "      <td>None</td>\n",
       "      <td>364b59fc-4a16-418e-a11b-d4c3690cd306</td>\n",
       "      <td>1.0</td>\n",
       "      <td>0.0</td>\n",
       "      <td>What is OpenAI?</td>\n",
       "    </tr>\n",
       "    <tr>\n",
       "      <th>4</th>\n",
       "      <td>A technology company known for search</td>\n",
       "      <td>Google is a multinational technology company s...</td>\n",
       "      <td>1.182803</td>\n",
       "      <td>None</td>\n",
       "      <td>2326b001-9fff-4856-93fb-d8b64002999d</td>\n",
       "      <td>1.0</td>\n",
       "      <td>0.0</td>\n",
       "      <td>What is Google?</td>\n",
       "    </tr>\n",
       "  </tbody>\n",
       "</table>\n",
       "</div>"
      ],
      "text/plain": [
       "                                    reference.answer  \\\n",
       "0       A company that creates Large Language Models   \n",
       "1  A platform for observing and evaluating LLM ap...   \n",
       "2          A framework for building LLM applications   \n",
       "3       A company that creates Large Language Models   \n",
       "4              A technology company known for search   \n",
       "\n",
       "                                      outputs.output  execution_time error  \\\n",
       "0  Mistral is an open-source large language model...       43.136775  None   \n",
       "1  LangSmith is a tool designed for building and ...        1.251573  None   \n",
       "2  LangChain is a framework for developing applic...        1.175065  None   \n",
       "3  OpenAI is an artificial intelligence research ...       22.120883  None   \n",
       "4  Google is a multinational technology company s...        1.182803  None   \n",
       "\n",
       "                                     id  feedback.correctness  \\\n",
       "0  b1b4ff81-69d6-4d1c-a0e0-49efefc0b7d9                   1.0   \n",
       "1  05edf89b-2698-41fa-916e-5a69019a8307                   0.0   \n",
       "2  a618e89d-9966-4358-94db-3565d5b05384                   1.0   \n",
       "3  364b59fc-4a16-418e-a11b-d4c3690cd306                   1.0   \n",
       "4  2326b001-9fff-4856-93fb-d8b64002999d                   1.0   \n",
       "\n",
       "   feedback.length input.inputs.question  \n",
       "0              0.0      What is Mistral?  \n",
       "1              1.0    What is LangSmith?  \n",
       "2              1.0    What is LangChain?  \n",
       "3              0.0       What is OpenAI?  \n",
       "4              0.0       What is Google?  "
      ]
     },
     "execution_count": 20,
     "metadata": {},
     "output_type": "execute_result"
    }
   ],
   "source": [
    "\n",
    "experiment_name = experiment_results.experiment_name\n",
    "re = client.get_test_results(project_name=experiment_name)\n",
    "\n",
    "score = re['feedback.correctness'].sum()\n",
    "print(f'score:{score}',\"\\n\\n\")\n",
    "re"
   ]
  },
  {
   "cell_type": "markdown",
   "id": "8e87d6ef-c75e-4656-9d58-80ea6d36860a",
   "metadata": {
    "jp-MarkdownHeadingCollapsed": true
   },
   "source": [
    "## Thoughts\n",
    "\n",
    "- create 3 different LLM ( gpt-4o-mini, minimax, ChatGLM-4-Flash) Chat instance\n",
    "- create Dataset on LangSmith (already done)\n",
    "- create evaluate function\n",
    "- create 3 different evaluate app for 3 different Chat instance \n",
    "- create 3 method as Agent Node to run 3 Chat instance for Same dataset in LangSmith and get results\n",
    "- send results to final Agent to come up a final score table for 3 Chat instance\n",
    "- display table in notebook cell.\n",
    "\n"
   ]
  },
  {
   "cell_type": "code",
   "execution_count": null,
   "id": "26b9a3be-8083-4fcf-9894-3f9745b7762d",
   "metadata": {},
   "outputs": [],
   "source": []
  },
  {
   "cell_type": "code",
   "execution_count": 65,
   "id": "a168d18f-077d-4fd5-8b4f-ebe5dd8febd3",
   "metadata": {},
   "outputs": [
    {
     "name": "stdout",
     "output_type": "stream",
     "text": [
      "[1, 1, 1, 1, 0] \n",
      "\n",
      " \n",
      "\n",
      " [1, 0, 1, 1, 0] =================\n",
      "     Model  Scores\n",
      "0  Minimax       4\n",
      "1  ChatGLM       3\n"
     ]
    }
   ],
   "source": [
    "import asyncio\n",
    "import pandas as pd\n",
    "from langchain_openai import ChatOpenAI\n",
    "from langchain_core.prompts import PromptTemplate\n",
    "from langsmith.evaluation import LangChainStringEvaluator\n",
    "from langchain_core.output_parsers import StrOutputParser\n",
    "import time\n",
    "\n",
    "# Step 1: 创建LLM实例  [\"GPT-4o-mini\", \"Minimax\", \"ChatGLM\"]\n",
    "class LLMInstance:\n",
    "    def __init__(self, model_name):\n",
    "        # 使用 ChatOpenAI 初始化模型\n",
    "        self.model_name = model_name\n",
    "        #self.model = ChatOpenAI(model_name=model_name)\n",
    "        if model_name==\"GPT-4o-mini\":\n",
    "            self.model = openai_chat\n",
    "        elif model_name==\"Minimax\":\n",
    "            self.model = miniMax_chat\n",
    "        else:\n",
    "            self.model = chatglm_chat\n",
    "\n",
    "    async def infer(self, question):\n",
    "        # 定义聊天提示模板\n",
    "        prompt = ChatPromptTemplate.from_messages(\n",
    "            [\n",
    "                (\"system\", \"Respond to the user's question in a short, concise manner (one short sentence). ONLY reply based on your database and no other thoughts.\"),\n",
    "                (\"user\", \"{question}\")\n",
    "            ]\n",
    "        )\n",
    "        \n",
    "        # 组合提示和模型\n",
    "        chat = prompt | self.model\n",
    "        # 调用模型进行推理\n",
    "        response = await chat.ainvoke({\"question\": question})\n",
    "        return response.content  # 获取返回内容\n",
    "\n",
    "# 步骤 3：创建评估函数\n",
    "evaluate_llm = ChatOpenAI(model=\"gpt-4o-mini\")\n",
    "\n",
    "_PROMPT_TEMPLATE = \"\"\"You are an expert professor specialized in grading students' answers to questions.\n",
    "You should consider the Major meaning and concept in both [answer] and [result], if they're talking same thing.\n",
    "Consider the object of both [answer] and [result] if they're same.\n",
    "[Example]\n",
    "  answer: Google is a company.\n",
    "  result: Microsoft is a company. \n",
    "  Then [answer] and [result] is talking different object, so that [result] is INCORRECT.\n",
    "  \n",
    "You are grading the following question:\n",
    "{query}\n",
    "Here is the real answer:\n",
    "{answer}\n",
    "You are grading the following predicted answer:\n",
    "{result}\n",
    "Respond with `CORRECT` or `INCORRECT` ONLY, No other words and comments on the [result]. \n",
    "Grade:\n",
    "\"\"\"\n",
    "\n",
    "PROMPT = PromptTemplate(\n",
    "    input_variables=[\"query\", \"answer\", \"result\"], template=_PROMPT_TEMPLATE\n",
    ")\n",
    "\n",
    "## Create evaluator Only Once\n",
    "evaluator = PROMPT | evaluate_llm | StrOutputParser()\n",
    "\n",
    "async def evaluate_response(query, expected_answer, generated_answer):\n",
    "    # 使用 LangChainStringEvaluator 进行答案评估\n",
    "    \n",
    "    evaluation_result = await evaluator.ainvoke({\"query\": query, \"answer\": expected_answer, \"result\": generated_answer})\n",
    "    return 1 if evaluation_result.strip().upper()==\"CORRECT\"  else 0\n",
    "\n",
    "# Step 4: 评估应用\n",
    "async def evaluate_model(model, questions, expected_answers):\n",
    "    scores = []\n",
    "    for i in range(len(questions)):\n",
    "        answer = await model.infer(questions[i])\n",
    "        score = await evaluate_response(questions[i], expected_answers[i], answer)\n",
    "        scores.append(score)\n",
    "    return scores\n",
    "\n",
    "gpt_model = LLMInstance(\"GPT-4o-mini\")\n",
    "minimax_model = LLMInstance(\"Minimax\")\n",
    "chatglm_model = LLMInstance(\"ChatGLM\")\n",
    "\n",
    "# Step 5: 创建代理节点\n",
    "async def run_evaluations(questions, expected_answers):\n",
    "    # gpt_scores = await evaluate_model(gpt_model, questions, expected_answers)\n",
    "    minimax_scores = await evaluate_model(minimax_model, questions, expected_answers)\n",
    "    chatglm_scores = await evaluate_model(chatglm_model, questions, expected_answers)\n",
    "    return minimax_scores, chatglm_scores\n",
    "\n",
    "# Step 6: 汇总结果到最终Agent\n",
    "async def summarize_results():\n",
    "    questions = [\n",
    "        \"What is LangChain?\",\n",
    "        \"What is LangSmith?\",\n",
    "        \"What is OpenAI?\",\n",
    "        \"What is Google?\",\n",
    "        \"What is Mistral?\"\n",
    "    ]\n",
    "    \n",
    "    expected_answers = [\n",
    "        \"LangChain is a framework for developing applications powered by language models.\",\n",
    "        \"LangSmith is a platform that helps developers build, test, and manage language model applications.\",\n",
    "        \"OpenAI is an artificial intelligence research organization known for its development of AI models, including GPT.\",\n",
    "        \"Google is a multinational technology company specializing in Internet-related services and products.\",\n",
    "        \"Mistral is an AI startup focused on developing advanced open-weight language models.\"\n",
    "    ]\n",
    "\n",
    "    \n",
    "    minimax_scores, chatglm_scores = await run_evaluations(questions, expected_answers)\n",
    "    print(minimax_scores,\"\\n\\n\", \"\\n\\n\",chatglm_scores , \"=================\")\n",
    "    results = {\n",
    "        \"Model\": [\"Minimax\", \"ChatGLM\"],\n",
    "        \"Scores\": [sum(minimax_scores),  sum(chatglm_scores)]\n",
    "    }\n",
    "\n",
    "    results_df = pd.DataFrame(results)\n",
    "    return results_df\n",
    "\n",
    "# Step 7: 在Notebook中显示结果\n",
    "async def main():\n",
    "    results_df = await summarize_results()\n",
    "    print(results_df)\n",
    "\n",
    "# 运行主程序\n",
    "await main()\n"
   ]
  },
  {
   "cell_type": "code",
   "execution_count": null,
   "id": "728b6157-3473-4ace-bc9b-776520bae785",
   "metadata": {},
   "outputs": [],
   "source": []
  },
  {
   "cell_type": "code",
   "execution_count": null,
   "id": "bde8fc39-bc28-4fdb-952e-963e489f323f",
   "metadata": {},
   "outputs": [],
   "source": []
  },
  {
   "cell_type": "code",
   "execution_count": null,
   "id": "7f955268-8cdf-4b16-b82f-804e55d4fd9b",
   "metadata": {},
   "outputs": [],
   "source": []
  },
  {
   "cell_type": "markdown",
   "id": "d87a7765-c720-46c6-9c82-0636038eaa36",
   "metadata": {},
   "source": [
    "\n",
    "## Homework \n",
    "\n",
    "---\n"
   ]
  },
  {
   "cell_type": "markdown",
   "id": "11c60cf4-c9e5-4d18-a919-ff9271289de0",
   "metadata": {},
   "source": [
    "### create LLMInstance class for inference"
   ]
  },
  {
   "cell_type": "code",
   "execution_count": 49,
   "id": "ba49b713-cb74-4d2f-96da-7bdf6bd4d747",
   "metadata": {},
   "outputs": [],
   "source": [
    "\n",
    "from langchain_core.messages import BaseMessage, HumanMessage, ToolMessage\n",
    "from langchain_core.prompts import ChatPromptTemplate, MessagesPlaceholder\n",
    "from langgraph.graph import END, StateGraph, START\n",
    "from langchain_openai import ChatOpenAI\n",
    "\n",
    "class LLMInstance:\n",
    "    def __init__(self, model_name):\n",
    "        # 使用 ChatOpenAI 初始化模型\n",
    "        self.model_name = model_name\n",
    "        #self.model = ChatOpenAI(model_name=model_name)\n",
    "        if model_name==\"GPT-4o-mini\":\n",
    "            self.model = openai_chat\n",
    "        elif model_name==\"Minimax\":\n",
    "            self.model = miniMax_chat\n",
    "        else:\n",
    "            self.model = chatglm_chat\n",
    "\n",
    "    def infer(self, question):\n",
    "        # 定义聊天提示模板\n",
    "        prompt = ChatPromptTemplate.from_messages(\n",
    "            [\n",
    "                (\"system\", \"Respond to the user's question in a short, concise manner (one short sentence). ONLY reply based on your database and no other thoughts.\"),\n",
    "                (\"user\", \"{question}\")\n",
    "            ]\n",
    "        )\n",
    "        \n",
    "        # 组合提示和模型\n",
    "        chat = prompt | self.model\n",
    "        # 调用模型进行推理\n",
    "        response = chat.invoke({\"question\": question})\n",
    "        \n",
    "        return response.content  # 获取返回内容"
   ]
  },
  {
   "cell_type": "code",
   "execution_count": 50,
   "id": "0bf4bc07-f222-4619-8987-ed6505e50b39",
   "metadata": {},
   "outputs": [],
   "source": [
    "minimax_model = LLMInstance(\"Minimax\")\n",
    "chatglm_model = LLMInstance(\"ChatGLM\")"
   ]
  },
  {
   "cell_type": "markdown",
   "id": "37a7d920-8de4-4105-a5da-c2616d659ea4",
   "metadata": {},
   "source": [
    "### Create test data and expected result "
   ]
  },
  {
   "cell_type": "code",
   "execution_count": 51,
   "id": "aec0f670-4026-4cd7-8ab2-7ea393f80ee4",
   "metadata": {},
   "outputs": [],
   "source": [
    "\n",
    "def question_pairs():\n",
    "    questions = [\n",
    "        \"What is LangChain?\",\n",
    "        \"What is LangSmith?\",\n",
    "        \"What is OpenAI?\",\n",
    "        \"What is Google?\",\n",
    "        \"What is Mistral?\"\n",
    "    ]\n",
    "    \n",
    "    expected_answers = [\n",
    "        \"LangChain is a framework for developing applications powered by language models.\",\n",
    "        \"LangSmith is a platform that helps developers build, test, and manage language model applications.\",\n",
    "        \"OpenAI is an artificial intelligence research organization known for its development of AI models, including GPT.\",\n",
    "        \"Google is a multinational technology company specializing in Internet-related services and products.\",\n",
    "        \"Mistral is an AI startup focused on developing advanced open-weight language models.\"\n",
    "    ]\n",
    "    return {\"questions\": questions, \"expected_answers\": expected_answers}\n",
    "    "
   ]
  },
  {
   "cell_type": "code",
   "execution_count": 11,
   "id": "a9153b9d-052a-4170-8933-6499de412b19",
   "metadata": {},
   "outputs": [
    {
     "data": {
      "text/plain": [
       "{'questions': ['What is LangChain?'],\n",
       " 'expected_answers': ['LangChain is a framework for developing applications powered by language models.']}"
      ]
     },
     "execution_count": 11,
     "metadata": {},
     "output_type": "execute_result"
    }
   ],
   "source": [
    "question_pairs()"
   ]
  },
  {
   "cell_type": "markdown",
   "id": "606b4d39-fce5-42e3-aca5-279a4c2b7c65",
   "metadata": {},
   "source": [
    "### create Evaluator function "
   ]
  },
  {
   "cell_type": "code",
   "execution_count": 61,
   "id": "8be03934-e011-4aea-9f09-a41ae2cfd0a5",
   "metadata": {},
   "outputs": [],
   "source": [
    "from langchain_core.output_parsers import StrOutputParser\n",
    "from langchain_core.prompts import PromptTemplate\n",
    "import time \n",
    "\n",
    "evaluate_llm = ChatOpenAI(model=\"gpt-4o-mini\")\n",
    "\n",
    "_PROMPT_TEMPLATE = \"\"\"You are an expert professor specialized in grading students' answers to questions.\n",
    "You should consider the Major meaning and concept in both [answer] and [result], if they're talking same thing.\n",
    "Consider the object of both [answer] and [result] if they're same.\n",
    "[Example]\n",
    "  answer: Google is a company.\n",
    "  result: Microsoft is a company. \n",
    "  Then [answer] and [result] is talking different object, so that [result] is INCORRECT.\n",
    "  \n",
    "You are grading the following question:\n",
    "{query}\n",
    "Here is the real answer:\n",
    "{answer}\n",
    "You are grading the following predicted answer:\n",
    "{result}\n",
    "Respond with `CORRECT` or `INCORRECT` ONLY, No other words and comments on the [result]. \n",
    "Grade:\n",
    "\"\"\"\n",
    "\n",
    "PROMPT = PromptTemplate(\n",
    "    input_variables=[\"query\", \"answer\", \"result\"], template=_PROMPT_TEMPLATE\n",
    ")\n",
    "\n",
    "## Create evaluator Only Once\n",
    "# evaluator = PROMPT | evaluate_llm | StrOutputParser()\n",
    "evaluator = PROMPT | chatglm_chat | StrOutputParser()\n",
    "\n",
    "def evaluate_response(query, expected_answer, generated_answer):\n",
    "    # 进行答案评估  \n",
    "    evaluation_result = evaluator.invoke({\"query\": query, \"answer\": expected_answer, \"result\": generated_answer})\n",
    "    return 1 if evaluation_result.strip().upper()==\"CORRECT\"  else 0\n",
    "\n",
    "# Step 4: 评估应用\n",
    "def evaluate_model(model, questions, expected_answers):\n",
    "    scores = []\n",
    "    for i in range(len(questions)):\n",
    "        answer = model.infer(questions[i])\n",
    "        score = evaluate_response(questions[i], expected_answers[i], answer)\n",
    "        scores.append(score)\n",
    "        time.sleep(15)\n",
    "    return scores"
   ]
  },
  {
   "cell_type": "markdown",
   "id": "9713de98-d83c-4c18-b4ad-f460e5ab3eaf",
   "metadata": {},
   "source": [
    "### Define graph state class "
   ]
  },
  {
   "cell_type": "code",
   "execution_count": 53,
   "id": "5debff28-57bd-43fc-b775-e51e1d744067",
   "metadata": {},
   "outputs": [],
   "source": [
    "from typing import Annotated, Sequence\n",
    "from typing_extensions import TypedDict\n",
    "from langchain_core.messages import BaseMessage, HumanMessage, ToolMessage\n",
    "from langchain_core.prompts import ChatPromptTemplate, MessagesPlaceholder\n",
    "from langgraph.graph import END, StateGraph, START\n",
    "import operator\n",
    "\n",
    "def add_scores(left, right):\n",
    "    for item in right:\n",
    "        left.append(item)\n",
    "    return left\n",
    "    \n",
    "class State(TypedDict):\n",
    "    messages: Annotated[Sequence[BaseMessage], operator.add]\n",
    "    questions: list\n",
    "    expected_answers: list\n",
    "    sender_name: list\n",
    "    scores: Annotated[list, add_scores]\n",
    "    \n"
   ]
  },
  {
   "cell_type": "markdown",
   "id": "48aa2885-c9f9-495b-8ca7-1ca41789b099",
   "metadata": {},
   "source": [
    "### Create evaluate node as function for each model \n"
   ]
  },
  {
   "cell_type": "code",
   "execution_count": 54,
   "id": "26f28a6b-89e3-4e63-ba1a-6ae86fbc5e63",
   "metadata": {},
   "outputs": [],
   "source": [
    "\n",
    "def evaluate_miniMax(state):\n",
    "    q = state[\"questions\"]\n",
    "    an = state[\"expected_answers\"]\n",
    "    senders = state.get(\"sender_name\",[])\n",
    "    senders.append(\"MiniMax_LLM\")\n",
    "    scores = evaluate_model(minimax_model, q, an)\n",
    "    return {\"scores\":[{\"name\":\"minimax\", \"scores\":scores}] , \"sender_name\": senders}\n",
    "    "
   ]
  },
  {
   "cell_type": "code",
   "execution_count": 55,
   "id": "995d378e-d0a8-4c21-8eed-10ff31acbc80",
   "metadata": {},
   "outputs": [],
   "source": [
    "def eveluate_chatglm(state):\n",
    "    q = state[\"questions\"]\n",
    "    an = state[\"expected_answers\"]\n",
    "    senders = state.get(\"sender_name\",[])\n",
    "    senders.append(\"ChatGLM-4-Flash\")\n",
    "    scores = evaluate_model(chatglm_model, q, an)\n",
    "    return {\"scores\": [{\"name\": \"ChatGLM\", \"scores\": scores}] , \"sender_name\": senders}"
   ]
  },
  {
   "cell_type": "markdown",
   "id": "79d71f2f-2065-463c-a488-7de7ae550075",
   "metadata": {},
   "source": [
    "### Roter node node | dummy entry node | Output node "
   ]
  },
  {
   "cell_type": "code",
   "execution_count": 63,
   "id": "37055b46-f4c3-41ee-893c-c7aace76c412",
   "metadata": {},
   "outputs": [],
   "source": [
    "from typing import Literal\n",
    "        \n",
    "def router(state) -> Literal[\"minimax\",\"chatglm\", \"__end__\"]:\n",
    "    q = state[\"questions\"]\n",
    "    an = state[\"expected_answers\"]\n",
    "    if len(q)==0 or len(an)==0 :\n",
    "        return \"__end__\"\n",
    "    senders = state.get(\"sender_name\", [])\n",
    "    if len(senders) == 0:\n",
    "        return \"minimax\"\n",
    "    elif len(senders) == 1:\n",
    "        return \"chatglm\"\n",
    "    else :\n",
    "        return \"__end__\"\n",
    "\n",
    "def entry(state):\n",
    "    pass\n",
    "\n",
    "summary_model = ChatOpenAI(model=\"gpt-4o-mini\")\n",
    "def output_agent(state):\n",
    "    scores = state.get(\"scores\", [])\n",
    "    if len(scores) <= 1 : \n",
    "        return \n",
    "    print(\"total scores:\", scores)\n",
    "    query = \"\"\n",
    "    for item in scores:\n",
    "        model = item.get(\"name\", \"None\")\n",
    "        scorelist = item.get(\"scores\", [])\n",
    "        query += f'Model: {model}, total score:{sum(scorelist)}\\n'\n",
    "        \n",
    "    result = kimi_chat.invoke(f\"Based on below scores of models, summarize the model performance of them.\\nYour should output the summary result and then put the result to a markdown table.\\n\\n[scores]\\n{query}\")\n",
    "    return {\"messages\":[result]}\n",
    "    "
   ]
  },
  {
   "cell_type": "markdown",
   "id": "f4858de0-a2d6-4bb3-9347-699309320e83",
   "metadata": {},
   "source": [
    "### Populate the StateGraph and draw flow chart "
   ]
  },
  {
   "cell_type": "code",
   "execution_count": 64,
   "id": "a14dddce-1e88-4a54-be59-f5f4a83d1414",
   "metadata": {},
   "outputs": [],
   "source": [
    "graph_builder = StateGraph(State)\n",
    "graph_builder.add_node(\"minimax_scoring\", evaluate_miniMax)\n",
    "graph_builder.add_node(\"chatglm_scoring\", eveluate_chatglm)\n",
    "graph_builder.add_node(\"entry\", entry)\n",
    "graph_builder.add_node(\"output\", output_agent)\n",
    "graph_builder.add_edge(START, \"entry\")\n",
    "graph_builder.add_edge(\"minimax_scoring\", \"entry\")\n",
    "graph_builder.add_edge(\"chatglm_scoring\", \"entry\")\n",
    "\n",
    "graph_builder.add_conditional_edges(\n",
    "    \"entry\",\n",
    "    router,\n",
    "    {\"__end__\":\"output\", \"minimax\":\"minimax_scoring\",\"chatglm\":\"chatglm_scoring\"}\n",
    ")\n",
    "\n",
    "# 编译状态图并生成可执行图对象\n",
    "graph = graph_builder.compile()"
   ]
  },
  {
   "cell_type": "code",
   "execution_count": 65,
   "id": "dbf177a0-a16d-4485-9f20-fbf45d3b4466",
   "metadata": {},
   "outputs": [
    {
     "data": {
      "image/jpeg": "[encoded data removed]",
      "text/plain": [
       "<IPython.core.display.Image object>"
      ]
     },
     "metadata": {},
     "output_type": "display_data"
    }
   ],
   "source": [
    "# 你可以使用 get_graph 方法来可视化图，并结合 draw 方法（如 draw_ascii 或 draw_png）\n",
    "from IPython.display import Image, display\n",
    "\n",
    "try:\n",
    "    display(Image(graph.get_graph().draw_mermaid_png()))\n",
    "except Exception:\n",
    "    print(Exception)"
   ]
  },
  {
   "cell_type": "markdown",
   "id": "99ab3bf5-c36d-4bbf-895e-fa3f615bd9fc",
   "metadata": {},
   "source": [
    "### Run graph"
   ]
  },
  {
   "cell_type": "code",
   "execution_count": 67,
   "id": "5199cd10-070e-4b13-80e5-1e14a68cebf2",
   "metadata": {
    "editable": true,
    "slideshow": {
     "slide_type": ""
    },
    "tags": []
   },
   "outputs": [
    {
     "name": "stdout",
     "output_type": "stream",
     "text": [
      "{'minimax_scoring': {'sender_name': ['MiniMax_LLM'], 'scores': [{'name': 'minimax', 'scores': [0, 1, 1, 1, 0]}]}}\n",
      "{'chatglm_scoring': {'sender_name': ['MiniMax_LLM', 'ChatGLM-4-Flash'], 'scores': [{'name': 'ChatGLM', 'scores': [1, 1, 0, 1, 0]}]}}\n",
      "total scores: [{'name': 'minimax', 'scores': [0, 1, 1, 1, 0]}, {'name': 'ChatGLM', 'scores': [1, 1, 0, 1, 0]}]\n",
      "{'output': {'messages': [AIMessage(content='Based on the provided scores, both models \"minimax\" and \"ChatGLM\" have a total score of 3.\\n\\nHere is the summary in a markdown table format:\\n\\n| Model     | Total Score |\\n|-----------|-------------|\\n| Minimax   | 3           |\\n| ChatGLM   | 3           |', additional_kwargs={'refusal': None}, response_metadata={'token_usage': {'completion_tokens': 68, 'prompt_tokens': 61, 'total_tokens': 129}, 'model_name': 'moonshot-v1-32k', 'system_fingerprint': None, 'finish_reason': 'stop', 'logprobs': None}, id='run-6affd8d5-6c0e-4bab-bbcf-6f784fcdc243-0', usage_metadata={'input_tokens': 61, 'output_tokens': 68, 'total_tokens': 129})]}}\n",
      "final result:\n",
      "\n",
      " Based on the provided scores, both models \"minimax\" and \"ChatGLM\" have a total score of 3.\n",
      "\n",
      "Here is the summary in a markdown table format:\n",
      "\n",
      "| Model     | Total Score |\n",
      "|-----------|-------------|\n",
      "| Minimax   | 3           |\n",
      "| ChatGLM   | 3           |\n"
     ]
    }
   ],
   "source": [
    "for event in graph.stream(question_pairs()):\n",
    "    if \"entry\" in event :\n",
    "        continue\n",
    "    else :\n",
    "        print(event)\n",
    "    \n",
    "    output = event.get(\"output\", {})\n",
    "    messages = output.get(\"messages\",[])\n",
    "    print(\"final result:\\n\\n\",messages[-1].content) if len(messages) >= 1 else None\n",
    "    "
   ]
  },
  {
   "cell_type": "code",
   "execution_count": null,
   "id": "e3cafbc5-1b5b-4203-ae15-6817a9804347",
   "metadata": {},
   "outputs": [],
   "source": []
  },
  {
   "cell_type": "code",
   "execution_count": null,
   "id": "42f54125-9d08-4a04-bdda-3d8cf559738c",
   "metadata": {},
   "outputs": [],
   "source": []
  },
  {
   "cell_type": "code",
   "execution_count": null,
   "id": "e54c7e69-9921-4eee-95e4-57bb4ab93d8c",
   "metadata": {},
   "outputs": [],
   "source": []
  },
  {
   "cell_type": "code",
   "execution_count": null,
   "id": "c0c3700e-30df-47ea-bfb6-a73983287f71",
   "metadata": {},
   "outputs": [],
   "source": []
  },
  {
   "cell_type": "code",
   "execution_count": null,
   "id": "81a21639-db21-4274-8387-fe6fe9b5190f",
   "metadata": {},
   "outputs": [],
   "source": []
  },
  {
   "cell_type": "code",
   "execution_count": null,
   "id": "682ed45c-3cb8-45d2-8aca-2e0fadfe010a",
   "metadata": {},
   "outputs": [],
   "source": []
  },
  {
   "cell_type": "code",
   "execution_count": null,
   "id": "5b4bd51c-f03e-45ed-bba2-2a2cc3930b88",
   "metadata": {},
   "outputs": [],
   "source": []
  },
  {
   "cell_type": "code",
   "execution_count": null,
   "id": "61110cc4-4ba6-4181-9ce1-32d46f677c54",
   "metadata": {},
   "outputs": [],
   "source": []
  },
  {
   "cell_type": "code",
   "execution_count": null,
   "id": "389245a7-61d0-4265-9dbb-b7b3e6d5deb4",
   "metadata": {},
   "outputs": [],
   "source": []
  },
  {
   "cell_type": "code",
   "execution_count": null,
   "id": "4bb57f7d-560b-48ad-8706-ea2d8e1df573",
   "metadata": {},
   "outputs": [],
   "source": []
  },
  {
   "cell_type": "code",
   "execution_count": null,
   "id": "cf65a6a9-e9b4-403a-a11c-2092ebea0531",
   "metadata": {},
   "outputs": [],
   "source": []
  },
  {
   "cell_type": "code",
   "execution_count": null,
   "id": "1e1260e2-b568-4215-8ef2-f4b84bdbb2c0",
   "metadata": {},
   "outputs": [],
   "source": []
  },
  {
   "cell_type": "code",
   "execution_count": null,
   "id": "1e61a163-39d7-4c60-a637-e9c38e568953",
   "metadata": {},
   "outputs": [],
   "source": []
  },
  {
   "cell_type": "code",
   "execution_count": null,
   "id": "87a71787-cc02-46f8-a77c-67ee1e08baba",
   "metadata": {},
   "outputs": [],
   "source": []
  },
  {
   "cell_type": "code",
   "execution_count": null,
   "id": "8742077b-46c4-4d05-9b42-e836aa54b8ff",
   "metadata": {},
   "outputs": [],
   "source": []
  },
  {
   "cell_type": "code",
   "execution_count": null,
   "id": "7d1d3f5e-c049-4176-b03f-ccb751ffc32e",
   "metadata": {},
   "outputs": [],
   "source": []
  },
  {
   "cell_type": "code",
   "execution_count": null,
   "id": "162bd59f-a369-425d-93c1-42002616e1f4",
   "metadata": {},
   "outputs": [],
   "source": []
  },
  {
   "cell_type": "code",
   "execution_count": null,
   "id": "6c99805c-dd9c-427b-b18b-abdd46b5df60",
   "metadata": {},
   "outputs": [],
   "source": []
  },
  {
   "cell_type": "code",
   "execution_count": null,
   "id": "f881e474-1c49-4c2e-b095-9b798af35d64",
   "metadata": {},
   "outputs": [],
   "source": []
  },
  {
   "cell_type": "code",
   "execution_count": null,
   "id": "df5c00d5-cb49-4565-816a-de41751d0d45",
   "metadata": {},
   "outputs": [],
   "source": []
  },
  {
   "cell_type": "code",
   "execution_count": null,
   "id": "13c38825-b591-4811-b271-a2c803ab51fd",
   "metadata": {},
   "outputs": [],
   "source": []
  },
  {
   "cell_type": "code",
   "execution_count": null,
   "id": "d155b2fd-e2b7-4493-9fe9-19960672e736",
   "metadata": {},
   "outputs": [],
   "source": []
  },
  {
   "cell_type": "code",
   "execution_count": null,
   "id": "daeb26aa-89cf-465d-8ad4-299563f80dc5",
   "metadata": {},
   "outputs": [],
   "source": []
  },
  {
   "cell_type": "code",
   "execution_count": null,
   "id": "07b62ad7-fdbf-42ee-9176-daa1d2c79064",
   "metadata": {},
   "outputs": [],
   "source": []
  },
  {
   "cell_type": "code",
   "execution_count": null,
   "id": "b355d463-c3d5-4095-ada6-940a577530a5",
   "metadata": {},
   "outputs": [],
   "source": []
  },
  {
   "cell_type": "code",
   "execution_count": null,
   "id": "73883ee6-c738-4da0-b187-e397d7a2d090",
   "metadata": {},
   "outputs": [],
   "source": []
  },
  {
   "cell_type": "code",
   "execution_count": null,
   "id": "9ab6ba5e-1e61-4cd8-879b-0223fe456035",
   "metadata": {},
   "outputs": [],
   "source": []
  },
  {
   "cell_type": "code",
   "execution_count": null,
   "id": "bca540b7-1096-4c52-a604-be9bcfabfcc5",
   "metadata": {},
   "outputs": [],
   "source": []
  },
  {
   "cell_type": "code",
   "execution_count": null,
   "id": "47d3fccc-59c3-4855-98fc-9547c5ddbcd9",
   "metadata": {},
   "outputs": [],
   "source": []
  },
  {
   "cell_type": "code",
   "execution_count": null,
   "id": "6ed2594d-bc65-4c8e-9f54-169733a42ab4",
   "metadata": {},
   "outputs": [],
   "source": []
  },
  {
   "cell_type": "code",
   "execution_count": null,
   "id": "67e10587-e2d2-4a8a-a684-fe023b8895ce",
   "metadata": {},
   "outputs": [],
   "source": []
  },
  {
   "cell_type": "code",
   "execution_count": null,
   "id": "28c82b72-d91e-417f-acc1-a0a263a11d0c",
   "metadata": {},
   "outputs": [],
   "source": []
  },
  {
   "cell_type": "code",
   "execution_count": null,
   "id": "0f405eef-4f54-4b21-b989-ad46f0dbc93d",
   "metadata": {},
   "outputs": [],
   "source": []
  },
  {
   "cell_type": "code",
   "execution_count": null,
   "id": "fc9a7497-5dd4-4d8f-8a8c-985f9ab0757b",
   "metadata": {},
   "outputs": [],
   "source": []
  },
  {
   "cell_type": "code",
   "execution_count": null,
   "id": "b27e2ac3-be52-4152-8952-e3c0c27fd32a",
   "metadata": {},
   "outputs": [],
   "source": []
  },
  {
   "cell_type": "code",
   "execution_count": null,
   "id": "e936af73-a0d4-4e6a-af47-f3b727bc8b8d",
   "metadata": {},
   "outputs": [],
   "source": []
  },
  {
   "cell_type": "code",
   "execution_count": null,
   "id": "b60e1e59-e1d8-46fe-9b55-80a13e19b20d",
   "metadata": {},
   "outputs": [],
   "source": []
  },
  {
   "cell_type": "code",
   "execution_count": null,
   "id": "a5cee923-a592-4f15-881c-6ca411a9f44e",
   "metadata": {},
   "outputs": [],
   "source": []
  },
  {
   "cell_type": "code",
   "execution_count": null,
   "id": "f061cd91-4770-4148-918d-d2acec153a16",
   "metadata": {},
   "outputs": [],
   "source": []
  },
  {
   "cell_type": "code",
   "execution_count": null,
   "id": "50c6d063-26ba-470e-b32d-b7a7e56c8383",
   "metadata": {},
   "outputs": [],
   "source": []
  },
  {
   "cell_type": "code",
   "execution_count": null,
   "id": "4fac94fd-9efa-4746-a663-679d23b0dec8",
   "metadata": {},
   "outputs": [],
   "source": []
  },
  {
   "cell_type": "code",
   "execution_count": null,
   "id": "c71b3f48-d62a-47a0-918d-7d2173daacdf",
   "metadata": {},
   "outputs": [],
   "source": []
  },
  {
   "cell_type": "code",
   "execution_count": null,
   "id": "f0222d49-0df3-4da9-892c-825819b3f637",
   "metadata": {},
   "outputs": [],
   "source": []
  },
  {
   "cell_type": "code",
   "execution_count": null,
   "id": "bde3b5f9-0085-47de-a370-b4e2d90f873c",
   "metadata": {},
   "outputs": [],
   "source": []
  },
  {
   "cell_type": "code",
   "execution_count": null,
   "id": "e7c4dcc2-5374-4147-be7b-313307464789",
   "metadata": {},
   "outputs": [],
   "source": []
  },
  {
   "cell_type": "code",
   "execution_count": null,
   "id": "38b2508d-095a-42af-947a-da0a75b9f8a7",
   "metadata": {},
   "outputs": [],
   "source": []
  },
  {
   "cell_type": "code",
   "execution_count": null,
   "id": "aa60aeb5-5283-4e36-80e2-503f03e2a710",
   "metadata": {},
   "outputs": [],
   "source": []
  },
  {
   "cell_type": "code",
   "execution_count": null,
   "id": "d428e7ef-33ec-42a3-b3d1-d1dca6b969ac",
   "metadata": {},
   "outputs": [],
   "source": []
  }
 ],
 "metadata": {
  "kernelspec": {
   "display_name": "Python 3 (ipykernel)",
   "language": "python",
   "name": "python3"
  },
  "language_info": {
   "codemirror_mode": {
    "name": "ipython",
    "version": 3
   },
   "file_extension": ".py",
   "mimetype": "text/x-python",
   "name": "python",
   "nbconvert_exporter": "python",
   "pygments_lexer": "ipython3",
   "version": "3.11.3"
  }
 },
 "nbformat": 4,
 "nbformat_minor": 5
}
