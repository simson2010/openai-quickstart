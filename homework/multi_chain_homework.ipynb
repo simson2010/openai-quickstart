{
 "cells": [
  {
   "cell_type": "markdown",
   "id": "13c84ac6-6801-465b-8031-2871860adfcf",
   "metadata": {},
   "source": [
    "# Multi-Chain to Generate source code\n"
   ]
  },
  {
   "cell_type": "code",
   "execution_count": 40,
   "id": "f432b467-89d0-4ea6-a5fd-47ca8b16d843",
   "metadata": {},
   "outputs": [],
   "source": [
    "import os\n",
    "from uuid import uuid4"
   ]
  },
  {
   "cell_type": "code",
   "execution_count": 32,
   "id": "7543e164-716b-41ac-872b-b3bc6cc007a4",
   "metadata": {},
   "outputs": [],
   "source": [
    "# 导入必要的库\n",
    "from langchain_text_splitters import RecursiveCharacterTextSplitter\n",
    "from langchain_openai import OpenAIEmbeddings\n",
    "from langchain_core.output_parsers import StrOutputParser\n",
    "from langchain_core.runnables import RunnablePassthrough\n",
    "from langchain import hub\n",
    "from langchain_core.prompts import ChatPromptTemplate\n",
    "from langchain_openai import ChatOpenAI"
   ]
  },
  {
   "cell_type": "markdown",
   "id": "3a7c2054-6225-4150-a2db-d73fd181d643",
   "metadata": {
    "jp-MarkdownHeadingCollapsed": true
   },
   "source": [
    "## Create chain for Python language"
   ]
  },
  {
   "cell_type": "code",
   "execution_count": 42,
   "id": "90080553-ef24-4ac1-a580-4f878932f4a8",
   "metadata": {},
   "outputs": [
    {
     "name": "stdout",
     "output_type": "stream",
     "text": [
      "```python\n",
      "def quicksort(arr):\n",
      "    \"\"\"Sorts an array using the Quick Sort algorithm.\"\"\"\n",
      "    if len(arr) <= 1:\n",
      "        return arr\n",
      "    pivot = arr[len(arr) // 2]\n",
      "    left = [x for x in arr if x < pivot]\n",
      "    middle = [x for x in arr if x == pivot]\n",
      "    right = [x for x in arr if x > pivot]\n",
      "    return quicksort(left) + middle + quicksort(right)\n",
      "\n",
      "# Example usage:\n",
      "# sorted_array = quicksort([3, 6, 8, 10, 1, 2, 1])\n",
      "```"
     ]
    }
   ],
   "source": [
    "template_string=\"\"\"\n",
    "You are Raymond Hetting, an expert python programmer, \n",
    "well versed in meta-programming and elegant, concise and short but well documented code. \n",
    "You follow the PEP8 style guide. \n",
    "\n",
    "Task: \n",
    "1.Write me a Python code to fullfil below requirements.\n",
    "2.Only response me the code generated, NO other context or descriptions.\n",
    "\n",
    "[requirements]\n",
    "{code_requirement}\n",
    "\"\"\"\n",
    "\n",
    "prompt=ChatPromptTemplate.from_template(template_string)\n",
    "\n",
    "llm = ChatOpenAI(model=\"gpt-4o-mini\")\n",
    "python_chain = (\n",
    "    prompt\n",
    "    |llm\n",
    "    |StrOutputParser()\n",
    ")\n",
    "\n",
    "for chunk in python_chain.stream(\"write me a quick sort code\"):\n",
    "    print(chunk, end=\"\", flush=True)\n",
    "    "
   ]
  },
  {
   "cell_type": "code",
   "execution_count": null,
   "id": "dff14efa-55bc-497a-8664-67d518f4dcd4",
   "metadata": {},
   "outputs": [],
   "source": []
  },
  {
   "cell_type": "markdown",
   "id": "a63b3fe4-1546-46d6-9bbf-58151224ea5d",
   "metadata": {
    "jp-MarkdownHeadingCollapsed": true
   },
   "source": [
    "## Create chain for Java Code"
   ]
  },
  {
   "cell_type": "code",
   "execution_count": 43,
   "id": "f505f324-2b26-463f-9849-1372c3749f8e",
   "metadata": {},
   "outputs": [
    {
     "name": "stdout",
     "output_type": "stream",
     "text": [
      "```java\n",
      "import java.util.Arrays;\n",
      "\n",
      "public class QuickSort {\n",
      "\n",
      "    public static void main(String[] args) {\n",
      "        int[] array = {10, 7, 8, 9, 1, 5};\n",
      "        quickSort(array, 0, array.length - 1);\n",
      "        System.out.println(\"Sorted array: \" + Arrays.toString(array));\n",
      "    }\n",
      "\n",
      "    private static void quickSort(int[] arr, int low, int high) {\n",
      "        if (low < high) {\n",
      "            int pivotIndex = partition(arr, low, high);\n",
      "            quickSort(arr, low, pivotIndex - 1); // Recursively sort left subarray\n",
      "            quickSort(arr, pivotIndex + 1, high); // Recursively sort right subarray\n",
      "        }\n",
      "    }\n",
      "\n",
      "    private static int partition(int[] arr, int low, int high) {\n",
      "        int pivot = arr[high]; // Choose the rightmost element as pivot\n",
      "        int i = (low - 1); // Index of the smaller element\n",
      "\n",
      "        for (int j = low; j < high; j++) {\n",
      "            if (arr[j] <= pivot) {\n",
      "                i++; // Increment index of smaller element\n",
      "                swap(arr, i, j);\n",
      "            }\n",
      "        }\n",
      "        swap(arr, i + 1, high); // Place the pivot in the correct position\n",
      "        return i + 1;\n",
      "    }\n",
      "\n",
      "    private static void swap(int[] arr, int i, int j) {\n",
      "        int temp = arr[i];\n",
      "        arr[i] = arr[j];\n",
      "        arr[j] = temp;\n",
      "    }\n",
      "}\n",
      "```"
     ]
    }
   ],
   "source": [
    "Java_template_string=\"\"\"\n",
    "You are Chris Lattner, an expert Java programmer, \n",
    "well versed in meta-programming and elegant, concise and short but well documented code. \n",
    "You follow the Java 18 style guide. \n",
    "\n",
    "Task: \n",
    "1.Write me a Java code to fullfil below requirements.\n",
    "2.Only response me the code generated, NO other context or descriptions.\n",
    "\n",
    "[requirements]\n",
    "{code_requirement}\n",
    "\"\"\"\n",
    "\n",
    "Java_prompt=ChatPromptTemplate.from_template(Java_template_string)\n",
    "\n",
    "Java_llm = ChatOpenAI(model=\"gpt-4o-mini\")\n",
    "Java_chain = (\n",
    "    Java_prompt\n",
    "    |Java_llm\n",
    "    |StrOutputParser()\n",
    ")\n",
    "\n",
    "for chunk in Java_chain.stream(\"write me a quick sort code\"):\n",
    "    print(chunk, end=\"\", flush=True)"
   ]
  },
  {
   "cell_type": "code",
   "execution_count": null,
   "id": "422e6620-4955-4c44-9f29-d76fad9e8b94",
   "metadata": {},
   "outputs": [],
   "source": []
  },
  {
   "cell_type": "markdown",
   "id": "6a6231ce-73a2-4756-aa60-d7531a83a20b",
   "metadata": {},
   "source": [
    "## Combine two"
   ]
  },
  {
   "cell_type": "code",
   "execution_count": 44,
   "id": "3c838c8d-218d-404f-86a6-9dc9912359e4",
   "metadata": {},
   "outputs": [
    {
     "name": "stdout",
     "output_type": "stream",
     "text": [
      "```python\n",
      "def quick_sort(arr):\n",
      "    \"\"\"Sorts an array using the quick sort algorithm.\"\"\"\n",
      "    if len(arr) <= 1:\n",
      "        return arr\n",
      "    pivot = arr[len(arr) // 2]\n",
      "    left = [x for x in arr if x < pivot]\n",
      "    middle = [x for x in arr if x == pivot]\n",
      "    right = [x for x in arr if x > pivot]\n",
      "    return quick_sort(left) + middle + quick_sort(right)\n",
      "\n",
      "# Example usage\n",
      "# sorted_array = quick_sort([3, 6, 8, 10, 1, 2, 1])\n",
      "# print(sorted_array)\n",
      "```\n",
      "\n",
      "```java\n",
      "import java.util.Arrays;\n",
      "\n",
      "public class QuickSort {\n",
      "    \n",
      "    public static void main(String[] args) {\n",
      "        int[] array = {10, 7, 8, 9, 1, 5};\n",
      "        quickSort(array, 0, array.length - 1);\n",
      "        System.out.println(\"Sorted array: \" + Arrays.toString(array));\n",
      "    }\n",
      "\n",
      "    // Main method to perform quick sort\n",
      "    public static void quickSort(int[] arr, int low, int high) {\n",
      "        if (low < high) {\n",
      "            int pi = partition(arr, low, high);\n",
      "            quickSort(arr, low, pi - 1); // Recursively sort elements before partition\n",
      "            quickSort(arr, pi + 1, high); // Recursively sort elements after partition\n",
      "        }\n",
      "    }\n",
      "\n",
      "    // Method to partition the array\n",
      "    private static int partition(int[] arr, int low, int high) {\n",
      "        int pivot = arr[high]; // Choosing the rightmost element as pivot\n",
      "        int i = (low - 1); // Index of smaller element\n",
      "\n",
      "        for (int j = low; j < high; j++) {\n",
      "            if (arr[j] <= pivot) {\n",
      "                i++;\n",
      "                swap(arr, i, j); // Swap if element is smaller than or equal to pivot\n",
      "            }\n",
      "        }\n",
      "        swap(arr, i + 1, high); // Swap the pivot element to its correct position\n",
      "        return i + 1;\n",
      "    }\n",
      "\n",
      "    // Method to swap two elements in the array\n",
      "    private static void swap(int[] arr, int i, int j) {\n",
      "        int temp = arr[i];\n",
      "        arr[i] = arr[j];\n",
      "        arr[j] = temp;\n",
      "    }\n",
      "}\n",
      "```"
     ]
    }
   ],
   "source": [
    "final_prompt = ChatPromptTemplate.from_template(\"Given Python code:\\n{result1} \\n and Java code:\\n{result2} \\n You should only print the origin foramtted code for me.\")\n",
    "\n",
    "gen_code_chain=(\n",
    "    {\"code_requirement\":RunnablePassthrough()}\n",
    "    |{\n",
    "        \"result1\":python_chain,\n",
    "        \"result2\": Java_chain\n",
    "    }\n",
    "    |final_prompt    \n",
    "    |ChatOpenAI(model=\"gpt-4o-mini\")\n",
    "    |StrOutputParser()\n",
    ")\n",
    "\n",
    "\n",
    "for chunk in gen_code_chain.stream(\"write me a quick sort code\"):\n",
    "    print(chunk, end=\"\", flush=True)\n",
    "    "
   ]
  },
  {
   "cell_type": "code",
   "execution_count": null,
   "id": "168dc2a2-f5aa-424f-80e5-25bb1222ef70",
   "metadata": {},
   "outputs": [],
   "source": []
  },
  {
   "cell_type": "code",
   "execution_count": null,
   "id": "3e4d2af4-4c3e-4e4b-bbff-5a83f75b7431",
   "metadata": {},
   "outputs": [],
   "source": []
  },
  {
   "cell_type": "code",
   "execution_count": null,
   "id": "f97dcd88-6c40-4c04-989b-b198be69bf30",
   "metadata": {},
   "outputs": [],
   "source": []
  },
  {
   "cell_type": "code",
   "execution_count": null,
   "id": "9d6aa452-f0e9-42b8-8854-21751b73220c",
   "metadata": {},
   "outputs": [],
   "source": []
  },
  {
   "cell_type": "code",
   "execution_count": null,
   "id": "39dfe70c-5f7d-4902-921d-364911327829",
   "metadata": {},
   "outputs": [],
   "source": []
  },
  {
   "cell_type": "code",
   "execution_count": null,
   "id": "26921968-1bc4-4da6-9fe2-abca0a823e91",
   "metadata": {},
   "outputs": [],
   "source": []
  },
  {
   "cell_type": "code",
   "execution_count": null,
   "id": "e0562d7f-915e-47e0-b5c1-60fd71c1e26f",
   "metadata": {},
   "outputs": [],
   "source": []
  },
  {
   "cell_type": "code",
   "execution_count": null,
   "id": "4cb3da3c-cccf-4240-b847-307d6c51859f",
   "metadata": {},
   "outputs": [],
   "source": []
  },
  {
   "cell_type": "code",
   "execution_count": null,
   "id": "414c59e6-993e-4bd5-83fd-95d5e4acc961",
   "metadata": {},
   "outputs": [],
   "source": []
  },
  {
   "cell_type": "code",
   "execution_count": null,
   "id": "c607aee4-dc22-403c-a144-c235240d1412",
   "metadata": {},
   "outputs": [],
   "source": []
  },
  {
   "cell_type": "code",
   "execution_count": null,
   "id": "063f65ff-75ee-45cf-b571-ba0bc3e299b3",
   "metadata": {},
   "outputs": [],
   "source": []
  },
  {
   "cell_type": "code",
   "execution_count": null,
   "id": "cfbbb0a3-78ab-48c1-9978-1eb5f7592724",
   "metadata": {},
   "outputs": [],
   "source": []
  },
  {
   "cell_type": "code",
   "execution_count": null,
   "id": "dc68cc1a-7fce-4123-9ff5-c63d738bcdaa",
   "metadata": {},
   "outputs": [],
   "source": []
  },
  {
   "cell_type": "code",
   "execution_count": null,
   "id": "fcf04569-dec8-4d0b-996a-586e2ba638ea",
   "metadata": {},
   "outputs": [],
   "source": []
  },
  {
   "cell_type": "code",
   "execution_count": null,
   "id": "6d5e345f-0513-4c35-aad8-61545bed54f4",
   "metadata": {},
   "outputs": [],
   "source": []
  },
  {
   "cell_type": "code",
   "execution_count": null,
   "id": "161d57f3-0f19-4c06-b7af-f0f84fa7fe05",
   "metadata": {},
   "outputs": [],
   "source": []
  },
  {
   "cell_type": "code",
   "execution_count": null,
   "id": "33368065-3d76-4987-9b13-1812182b49b3",
   "metadata": {},
   "outputs": [],
   "source": []
  },
  {
   "cell_type": "code",
   "execution_count": null,
   "id": "d294b35f-395f-4f94-95fe-302d3eb26a1e",
   "metadata": {},
   "outputs": [],
   "source": []
  },
  {
   "cell_type": "code",
   "execution_count": null,
   "id": "33a73ee2-534b-455c-b7e8-137ba125794a",
   "metadata": {},
   "outputs": [],
   "source": []
  },
  {
   "cell_type": "code",
   "execution_count": null,
   "id": "79bde9a2-7dcc-4cb6-b071-fdcc8af3488e",
   "metadata": {},
   "outputs": [],
   "source": []
  },
  {
   "cell_type": "code",
   "execution_count": null,
   "id": "1cbc2bee-f51f-4f75-887a-bada93b01fc6",
   "metadata": {},
   "outputs": [],
   "source": []
  },
  {
   "cell_type": "code",
   "execution_count": null,
   "id": "fdb117c4-ce29-4572-b202-7b6ce95ea2d4",
   "metadata": {},
   "outputs": [],
   "source": []
  },
  {
   "cell_type": "code",
   "execution_count": null,
   "id": "32605ddf-b0ba-4d0b-81c4-1aae0dae047a",
   "metadata": {},
   "outputs": [],
   "source": []
  },
  {
   "cell_type": "code",
   "execution_count": null,
   "id": "8dc2f375-761b-480d-bbcc-fc2214ddf504",
   "metadata": {},
   "outputs": [],
   "source": []
  },
  {
   "cell_type": "code",
   "execution_count": null,
   "id": "af715723-8be9-45c3-b827-8854ee8caf1e",
   "metadata": {},
   "outputs": [],
   "source": []
  },
  {
   "cell_type": "code",
   "execution_count": null,
   "id": "70d162d2-7747-4c01-91e9-2d76d7257ff0",
   "metadata": {},
   "outputs": [],
   "source": []
  },
  {
   "cell_type": "code",
   "execution_count": null,
   "id": "9e4353de-ba5f-42a5-9cc8-1099d10fa6f6",
   "metadata": {},
   "outputs": [],
   "source": []
  },
  {
   "cell_type": "code",
   "execution_count": null,
   "id": "f1c5f3f4-f71d-4e8e-8a75-5170e8bff8be",
   "metadata": {},
   "outputs": [],
   "source": []
  },
  {
   "cell_type": "code",
   "execution_count": null,
   "id": "7a3043c7-f037-4def-8653-6c79af030ce8",
   "metadata": {},
   "outputs": [],
   "source": []
  },
  {
   "cell_type": "code",
   "execution_count": null,
   "id": "9407e61d-a5d3-434d-b5e5-568ada0db8f4",
   "metadata": {},
   "outputs": [],
   "source": []
  },
  {
   "cell_type": "code",
   "execution_count": null,
   "id": "9de82e1d-b43a-4bdb-9382-d0b34054bf05",
   "metadata": {},
   "outputs": [],
   "source": []
  },
  {
   "cell_type": "code",
   "execution_count": null,
   "id": "016da24d-5b00-49bc-9683-9af374ad1d79",
   "metadata": {},
   "outputs": [],
   "source": []
  },
  {
   "cell_type": "code",
   "execution_count": null,
   "id": "0b23638e-1a99-42a8-a255-ec66d3882e94",
   "metadata": {},
   "outputs": [],
   "source": []
  },
  {
   "cell_type": "code",
   "execution_count": null,
   "id": "e57920b1-c27c-47e9-9411-6cbfebec0fe1",
   "metadata": {},
   "outputs": [],
   "source": []
  },
  {
   "cell_type": "code",
   "execution_count": null,
   "id": "e81c7bf0-947c-440b-9fe0-9866e40785b8",
   "metadata": {},
   "outputs": [],
   "source": []
  },
  {
   "cell_type": "code",
   "execution_count": null,
   "id": "f9ed625b-a454-4c68-a184-e5f337f2c398",
   "metadata": {},
   "outputs": [],
   "source": []
  },
  {
   "cell_type": "code",
   "execution_count": null,
   "id": "ba02e95b-99ce-48d5-bea0-1cbf17b5bce0",
   "metadata": {},
   "outputs": [],
   "source": []
  },
  {
   "cell_type": "code",
   "execution_count": null,
   "id": "6bdb8f9e-18bd-4269-a7c0-0caf21635371",
   "metadata": {},
   "outputs": [],
   "source": []
  },
  {
   "cell_type": "code",
   "execution_count": null,
   "id": "1f97cf1b-96b7-4a92-800a-cf0f226b4978",
   "metadata": {},
   "outputs": [],
   "source": []
  },
  {
   "cell_type": "code",
   "execution_count": null,
   "id": "fec031ec-6ca7-45ca-8bf0-de75f2bfe724",
   "metadata": {},
   "outputs": [],
   "source": []
  },
  {
   "cell_type": "code",
   "execution_count": null,
   "id": "e53cacbb-b862-4bd5-9090-2dccbe76d82a",
   "metadata": {},
   "outputs": [],
   "source": []
  },
  {
   "cell_type": "code",
   "execution_count": null,
   "id": "31cd082e-3c4d-4852-b515-44cfbb278225",
   "metadata": {},
   "outputs": [],
   "source": []
  },
  {
   "cell_type": "code",
   "execution_count": null,
   "id": "22737748-def7-4133-b97d-9a35fd38a1eb",
   "metadata": {},
   "outputs": [],
   "source": []
  },
  {
   "cell_type": "code",
   "execution_count": null,
   "id": "049fc30c-c5d3-462d-8839-93d2d891ebc7",
   "metadata": {},
   "outputs": [],
   "source": []
  },
  {
   "cell_type": "code",
   "execution_count": null,
   "id": "045d689c-82ff-4913-b023-3f0a2ca4d7aa",
   "metadata": {},
   "outputs": [],
   "source": []
  },
  {
   "cell_type": "code",
   "execution_count": null,
   "id": "6a929cb3-a604-45ce-8d8b-78f74eea4dfe",
   "metadata": {},
   "outputs": [],
   "source": []
  },
  {
   "cell_type": "code",
   "execution_count": null,
   "id": "b60a1f04-a64b-41a4-b539-8503fad979bd",
   "metadata": {},
   "outputs": [],
   "source": []
  },
  {
   "cell_type": "code",
   "execution_count": null,
   "id": "f44ff797-9feb-4cb9-b111-332d2428a8fe",
   "metadata": {},
   "outputs": [],
   "source": []
  },
  {
   "cell_type": "code",
   "execution_count": null,
   "id": "1ce883f0-2b00-41a2-94e6-7c0d48f6686d",
   "metadata": {},
   "outputs": [],
   "source": []
  },
  {
   "cell_type": "code",
   "execution_count": null,
   "id": "a78e137f-9aa9-40ae-95ae-ff022b446834",
   "metadata": {},
   "outputs": [],
   "source": []
  },
  {
   "cell_type": "code",
   "execution_count": null,
   "id": "fd734895-29cd-4060-9fe0-ec6f95a0b408",
   "metadata": {},
   "outputs": [],
   "source": []
  },
  {
   "cell_type": "code",
   "execution_count": null,
   "id": "9882a027-5dab-4632-8846-708bb6385c1a",
   "metadata": {},
   "outputs": [],
   "source": []
  },
  {
   "cell_type": "code",
   "execution_count": null,
   "id": "e85361ca-565f-4f17-8cb3-2523c2e0daeb",
   "metadata": {},
   "outputs": [],
   "source": []
  },
  {
   "cell_type": "code",
   "execution_count": null,
   "id": "aef320db-fc4f-408b-ab7d-f91b25a059f1",
   "metadata": {},
   "outputs": [],
   "source": []
  },
  {
   "cell_type": "code",
   "execution_count": null,
   "id": "f8c12faa-d29c-47e3-ac30-2c074cd7857d",
   "metadata": {},
   "outputs": [],
   "source": []
  },
  {
   "cell_type": "code",
   "execution_count": null,
   "id": "d17cacb6-29d7-4f29-8958-0e853fa7375f",
   "metadata": {},
   "outputs": [],
   "source": []
  },
  {
   "cell_type": "code",
   "execution_count": null,
   "id": "d8664a9f-6a2c-485f-9844-6c56263fc1ae",
   "metadata": {},
   "outputs": [],
   "source": []
  },
  {
   "cell_type": "code",
   "execution_count": null,
   "id": "54d78e8c-8e3a-49fa-88a4-8e10d9a68a3e",
   "metadata": {},
   "outputs": [],
   "source": []
  },
  {
   "cell_type": "code",
   "execution_count": null,
   "id": "95abcf48-741f-4e35-b0b5-b8a35fbd0227",
   "metadata": {},
   "outputs": [],
   "source": []
  },
  {
   "cell_type": "code",
   "execution_count": null,
   "id": "fdc4daa3-7c8e-4902-a5e8-28fb32c1b0ca",
   "metadata": {},
   "outputs": [],
   "source": []
  },
  {
   "cell_type": "code",
   "execution_count": null,
   "id": "1e5e2bd9-703d-42e7-818d-555368c5b535",
   "metadata": {},
   "outputs": [],
   "source": []
  }
 ],
 "metadata": {
  "kernelspec": {
   "display_name": "Python 3 (ipykernel)",
   "language": "python",
   "name": "python3"
  },
  "language_info": {
   "codemirror_mode": {
    "name": "ipython",
    "version": 3
   },
   "file_extension": ".py",
   "mimetype": "text/x-python",
   "name": "python",
   "nbconvert_exporter": "python",
   "pygments_lexer": "ipython3",
   "version": "3.11.3"
  }
 },
 "nbformat": 4,
 "nbformat_minor": 5
}
