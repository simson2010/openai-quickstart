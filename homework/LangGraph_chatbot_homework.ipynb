{
 "cells": [
  {
   "cell_type": "markdown",
   "id": "a4945e47-aa25-4d78-971f-bfb212ef66d7",
   "metadata": {},
   "source": [
    "# 第五周作业"
   ]
  },
  {
   "cell_type": "markdown",
   "id": "258170a1-6f06-4715-8d96-a1de4de69591",
   "metadata": {},
   "source": [
    "## Use only ChatBot with LangGraph\n",
    "\n",
    "----"
   ]
  },
  {
   "cell_type": "code",
   "execution_count": null,
   "id": "07dd8d9d-68e5-4003-abb6-8f8c3ba6ba39",
   "metadata": {},
   "outputs": [],
   "source": []
  },
  {
   "cell_type": "markdown",
   "id": "6ebdb32d-4017-43d9-a39f-7424f1bd640c",
   "metadata": {},
   "source": [
    "### create graph_builder and State"
   ]
  },
  {
   "cell_type": "code",
   "execution_count": 2,
   "id": "c5bf0ede-a337-474b-93b6-636f64331174",
   "metadata": {},
   "outputs": [],
   "source": [
    "\n",
    "from typing import Annotated\n",
    "from typing_extensions import TypedDict\n",
    "from langgraph.graph import StateGraph, START, END\n",
    "from langgraph.graph.message import add_messages\n",
    "\n",
    "class State(TypedDict):\n",
    "    messages: Annotated[list, add_messages]\n",
    "\n",
    "graph_builder = StateGraph(State)"
   ]
  },
  {
   "cell_type": "markdown",
   "id": "44ea1f42-88e2-49fc-b4b2-0e53209b16a6",
   "metadata": {},
   "source": [
    "### Create Chat LLM"
   ]
  },
  {
   "cell_type": "code",
   "execution_count": 3,
   "id": "e6bb712d-9b1a-4e29-864a-9b9b74af81ea",
   "metadata": {},
   "outputs": [],
   "source": [
    "from langchain_openai import ChatOpenAI\n",
    "\n",
    "# 初始化一个 GPT-4o-mini 模型\n",
    "chat_model = ChatOpenAI(model=\"gpt-4o-mini\")\n",
    "\n",
    "def chatbot(state: State):\n",
    "    return {\"messages\": [chat_model.invoke(state[\"messages\"])] }\n",
    "\n",
    "graph_builder.add_node(\"chatbot\", chatbot)\n"
   ]
  },
  {
   "cell_type": "markdown",
   "id": "eb38f706-e04f-4979-a783-26664c0e1d08",
   "metadata": {},
   "source": [
    "### Define chat flow, with Edge\n"
   ]
  },
  {
   "cell_type": "code",
   "execution_count": 4,
   "id": "6215fefb-b167-4757-a7cd-4c75c74ae27a",
   "metadata": {},
   "outputs": [],
   "source": [
    "graph_builder.add_edge(START, \"chatbot\")\n",
    "graph_builder.add_edge(\"chatbot\", END)\n"
   ]
  },
  {
   "cell_type": "code",
   "execution_count": 5,
   "id": "f9238595-6566-4bb4-949a-13bf35b51fec",
   "metadata": {},
   "outputs": [
    {
     "data": {
      "image/jpeg": "[encoded data removed]",
      "text/plain": [
       "<IPython.core.display.Image object>"
      ]
     },
     "metadata": {},
     "output_type": "display_data"
    }
   ],
   "source": [
    "graph = graph_builder.compile()\n",
    "\n",
    "# 你可以使用 get_graph 方法来可视化图，并结合 draw 方法（如 draw_ascii 或 draw_png）\n",
    "from IPython.display import Image, display\n",
    "\n",
    "try:\n",
    "    display(Image(graph.get_graph().draw_mermaid_png()))\n",
    "except Exception:\n",
    "    pass"
   ]
  },
  {
   "cell_type": "markdown",
   "id": "6c58db81-ed09-4ae1-b4a7-347256113de9",
   "metadata": {},
   "source": [
    "### Loop user input , call graph and print"
   ]
  },
  {
   "cell_type": "code",
   "execution_count": 8,
   "id": "c62d5f5b-caac-4ad7-9e54-e84d9037a24b",
   "metadata": {},
   "outputs": [
    {
     "name": "stdin",
     "output_type": "stream",
     "text": [
      "Type your query: 中国队在2024巴黎奥运会获得多少奖牌？\n"
     ]
    },
    {
     "name": "stdout",
     "output_type": "stream",
     "text": [
      "AI Message: 截至我的知识截止日期（2023年10月），2024年巴黎奥运会还未举行，因此无法提供中国队获得奖牌的具体数量。巴黎奥运会将于2024年7月26日至8月11日举行，届时会有关于各国代表队和运动员表现的最新资讯。请关注相关体育新闻以获取最新的赛事结果和奖牌统计。\n"
     ]
    },
    {
     "name": "stdin",
     "output_type": "stream",
     "text": [
      "Type your query: exit\n"
     ]
    },
    {
     "name": "stdout",
     "output_type": "stream",
     "text": [
      "Good bye\n"
     ]
    }
   ],
   "source": [
    "\n",
    "while True:\n",
    "    user_input = input(\"Type your query:\")\n",
    "\n",
    "    if user_input.lower() in [\"exit\",\"quit\", \"q\"]:\n",
    "        print(\"Good bye\")\n",
    "        break\n",
    "\n",
    "    for event in graph.stream({\"messages\": (\"user\", user_input) }):\n",
    "\n",
    "        for value in event.values():\n",
    "            print(\"AI Message:\", value[\"messages\"][-1].content)\n",
    "            "
   ]
  },
  {
   "cell_type": "markdown",
   "id": "cf9e51c6-2ad9-4ac5-b815-0e643fe8ea72",
   "metadata": {},
   "source": [
    "### chatbot only 运行结果\n",
    "\n",
    "Type your query: 中国队在2024巴黎奥运会获得多少奖牌？\n",
    "AI Message: 截至我的知识截止日期（2023年10月），2024年巴黎奥运会还未举行，因此无法提供中国队获得奖牌的具体数量。巴黎奥运会将于2024年7月26日至8月11日举行，届时会有关于各国代表队和运动员表现的最新资讯。请关注相关体育新闻以获取最新的赛事结果和奖牌统计。\n",
    "Type your query: exit\n",
    "Good bye\n"
   ]
  },
  {
   "cell_type": "markdown",
   "id": "152b494b-04c2-41ff-98ec-a057b0a8f2bb",
   "metadata": {},
   "source": [
    "## Add tools to Chatbot"
   ]
  },
  {
   "cell_type": "markdown",
   "id": "11ec76bf-ab98-43cf-9294-6e8cae592d9e",
   "metadata": {},
   "source": [
    "### Define tool and bind tool to LLM\n"
   ]
  },
  {
   "cell_type": "code",
   "execution_count": 9,
   "id": "0af5c7cd-be4d-4b4a-834c-4a5c3d58ea66",
   "metadata": {},
   "outputs": [
    {
     "data": {
      "text/plain": [
       "[{'url': 'https://www.npr.org/2024/08/02/nx-s1-5061584/china-paris-olympic-gold-medal-count',\n",
       "  'content': \"Chinese shooters have accounted for four of China's 13 gold medals. NPR is in Paris for the 2024 Summer Olympics. For more of our coverage from the Games, head to our latest updates. PARIS — As ...\"},\n",
       " {'url': 'https://olympics.com/en/paris-2024/medals',\n",
       "  'content': \"Official medal standings for the Paris 2024 Olympics (Jul 26-Aug 11, 2024). Find out which athletes are bringing home medals and breaking records. ... CHN People's Republic of China. 40 27 24 91. JPN Japan. 20 12 13 45. AUS Australia. 18 19 16 53. FRA France. 16 26 22 64. NED Netherlands. 15 7 12 34. ... Does not include medals won by AIN ...\"}]"
      ]
     },
     "execution_count": 9,
     "metadata": {},
     "output_type": "execute_result"
    }
   ],
   "source": [
    "from langchain_community.tools.tavily_search import TavilySearchResults\n",
    "\n",
    "# 定义 Tavily 搜索工具，最大搜索结果数设置为 2\n",
    "tool = TavilySearchResults(max_results=2)\n",
    "tools = [tool]\n",
    "\n",
    "# 测试工具调用\n",
    "tool.invoke(\"How many gold medals did China win at the 2024 Paris Olympics?\")"
   ]
  },
  {
   "cell_type": "markdown",
   "id": "ffa71981-d102-4fe3-8133-2e447298e100",
   "metadata": {},
   "source": [
    "### Start build new graph for LLM with Tools\n",
    "\n",
    "---"
   ]
  },
  {
   "cell_type": "code",
   "execution_count": 37,
   "id": "7753471c-abfb-4687-8d21-1257f03f23d6",
   "metadata": {},
   "outputs": [],
   "source": [
    "## Bind to LLM\n",
    "\n",
    "from typing import Annotated\n",
    "from langchain_openai import ChatOpenAI\n",
    "from typing_extensions import TypedDict\n",
    "from langgraph.graph import StateGraph, START\n",
    "from langgraph.graph.message import add_messages\n",
    "\n",
    "\n",
    "# 定义状态\n",
    "class State(TypedDict):\n",
    "    messages: Annotated[list, add_messages]\n",
    "\n",
    "graph_builder = StateGraph(State)\n",
    "\n",
    "# 初始化 LLM 并绑定搜索工具\n",
    "chat_model = ChatOpenAI(model=\"gpt-4o-mini\")\n",
    "llm_with_tools = chat_model.bind_tools(tools)\n",
    "\n",
    "# 更新聊天机器人节点函数，支持工具调用\n",
    "def chatbot(state: State):\n",
    "    return {\"messages\": [llm_with_tools.invoke(state[\"messages\"])]}\n",
    "\n",
    "# 将更新后的节点添加到状态图中\n",
    "graph_builder.add_node(\"chatbot\", chatbot)"
   ]
  },
  {
   "cell_type": "code",
   "execution_count": 38,
   "id": "9a832864-ea08-43bc-b3bc-e5bc7c36f499",
   "metadata": {},
   "outputs": [],
   "source": [
    "## Handle Tools invokation \n",
    "\n",
    "import json\n",
    "from langchain_core.messages import ToolMessage\n",
    "\n",
    "class TavilySearchNode:\n",
    "    \"\"\" A node run after LLM AIMessage\n",
    "    Tool node will check AIMessage if including tool invocation, \n",
    "    then invoke tools one by one.\n",
    "    \"\"\"\n",
    "\n",
    "    def __init__(self, tools: list) -> None:\n",
    "        ## Save tools in a dictionary named 'tools_by_name' and use \n",
    "        ## tool's name as \"KEY\"\n",
    "        self.tools_by_name = {tool.name: tool for tool in tools}\n",
    "\n",
    "    def __call__(self, input:dict):\n",
    "        if messages := input.get(\"messages\", []):\n",
    "            last_message = messages[-1]\n",
    "        else :\n",
    "            raise ValueError(\"输入中未找到消息\")\n",
    "\n",
    "        ## tools output list \n",
    "        outputs = []\n",
    "\n",
    "        for tool_call in last_message.tool_calls:\n",
    "            tool_result = self.tools_by_name[tool_call[\"name\"]].invoke(\n",
    "                tool_call[\"args\"]\n",
    "            )\n",
    "            outputs.append(\n",
    "                ToolMessage(\n",
    "                    content = json.dumps(tool_result),\n",
    "                    name=tool_call[\"name\"],\n",
    "                    tool_call_id=tool_call[\"id\"]\n",
    "                )\n",
    "            )\n",
    "        # retur tool call results\n",
    "        return {\"messages\": outputs}\n",
    "        "
   ]
  },
  {
   "cell_type": "markdown",
   "id": "6a51855d-0136-4138-8e9d-aed94b697c33",
   "metadata": {},
   "source": [
    "### Bind tool to llm "
   ]
  },
  {
   "cell_type": "code",
   "execution_count": 39,
   "id": "f46f0b4c-76fe-4d70-bd61-d7ac29027ea4",
   "metadata": {},
   "outputs": [],
   "source": [
    "\n",
    "tool_node = TavilySearchNode(tools=[tool])\n",
    "graph_builder.add_node(\"tools\", tool_node)\n"
   ]
  },
  {
   "cell_type": "markdown",
   "id": "deb1e120-d463-4996-b176-86b2d8a3d515",
   "metadata": {},
   "source": [
    "### Define router edge for tools"
   ]
  },
  {
   "cell_type": "code",
   "execution_count": 40,
   "id": "73ea01a6-005b-4f80-8a7e-7d4f03d5bf49",
   "metadata": {},
   "outputs": [],
   "source": [
    "from typing import Literal\n",
    "\n",
    "def route_tools(\n",
    "    state: State,\n",
    ") -> Literal[\"tools\", \"__end__\"]:\n",
    "\n",
    "    if isinstance(state, list):\n",
    "        ai_message = state[-1]\n",
    "    elif messages := state.get(\"messages\", []):\n",
    "        ai_message = messages[-1]\n",
    "    else:\n",
    "        raise ValueError(f\"输入状态中未找到消息: {state}\")\n",
    "\n",
    "    if hasattr(ai_message, \"tool_calls\") and len(ai_message.tool_calls) > 0:\n",
    "        return \"tools\"   \n",
    "    return \"__end__\" \n",
    "\n",
    "## graph_builder add conditional edage\n",
    "graph_builder.add_conditional_edges(\n",
    "    \"chatbot\",  \n",
    "    route_tools,  \n",
    "    {\"tools\": \"tools\", \"__end__\": \"__end__\"},  \n",
    ")\n",
    "\n",
    "## Add edge once tools finished, then go to chatbot \n",
    "graph_builder.add_edge(\"tools\", \"chatbot\")\n",
    "\n",
    "## point START to chatbot\n",
    "graph_builder.add_edge(START, \"chatbot\")\n"
   ]
  },
  {
   "cell_type": "markdown",
   "id": "d14bad6e-7cdc-42f7-986d-73ecc46d7cf7",
   "metadata": {},
   "source": [
    "### Build and display LangGraph"
   ]
  },
  {
   "cell_type": "code",
   "execution_count": 41,
   "id": "3802aa4d-a843-4699-8462-8e4a76d33fec",
   "metadata": {},
   "outputs": [],
   "source": [
    "graph = graph_builder.compile()"
   ]
  },
  {
   "cell_type": "code",
   "execution_count": 42,
   "id": "de313f07-9b9f-42e3-a2b0-52572b06080f",
   "metadata": {},
   "outputs": [
    {
     "data": {
      "image/jpeg": "[encoded data removed]",
      "text/plain": [
       "<IPython.core.display.Image object>"
      ]
     },
     "metadata": {},
     "output_type": "display_data"
    }
   ],
   "source": [
    "from IPython.display import Image, display\n",
    "\n",
    "try:\n",
    "    display(Image(graph.get_graph().draw_mermaid_png()))\n",
    "except Exception:\n",
    "    pass"
   ]
  },
  {
   "cell_type": "markdown",
   "id": "067ecfcc-285d-4f04-8bec-187e2734e6ee",
   "metadata": {},
   "source": [
    "### Run and get result \n",
    "\n",
    "---"
   ]
  },
  {
   "cell_type": "code",
   "execution_count": 43,
   "id": "38c2c47b-7491-4022-b623-af5832ee594e",
   "metadata": {},
   "outputs": [
    {
     "name": "stdin",
     "output_type": "stream",
     "text": [
      "User:  中国队在2024巴黎奥运会获得多少块奖牌？\n"
     ]
    },
    {
     "name": "stdout",
     "output_type": "stream",
     "text": [
      "Assistant: \n",
      "Assistant: [{\"url\": \"https://www.usatoday.com/story/sports/olympics/2024/07/24/olympic-medal-count-by-country/74441212007/\", \"content\": \"2024 Paris Olympics: Follow USA TODAY's coverage of the biggest names and stories of the Games. 1. USA \\u2014 126 (40 gold, 44 silver, 42 bronze) 2. China \\u2014 91 (40 gold, 27 silver, 24 bronze) 3 ...\"}, {\"url\": \"https://apnews.com/article/2024-olympics-medals-united-states-china-e9f013a206e0de69c41686ee122f425a\", \"content\": \"Updated 11:10 PM PDT, August 11, 2024. PARIS (AP) \\u2014 The contest for most gold medals at the Paris Olympics ended in a 40-40 tie between China and the United States. But the U.S. topped the medals table with a whopping 126 overall, compared to 91 for China. At the Tokyo Games, the U.S. also edged China in the medal count, finishing with 113 ...\"}]\n",
      "Assistant: 在2024年巴黎奥运会上，中国队共获得91块奖牌，其中包括40枚金牌、27枚银牌和24枚铜牌。\n"
     ]
    },
    {
     "name": "stdin",
     "output_type": "stream",
     "text": [
      "User:  bye\n"
     ]
    },
    {
     "name": "stdout",
     "output_type": "stream",
     "text": [
      "Assistant: Goodbye! If you have any more questions in the future, feel free to ask. Have a great day!\n"
     ]
    },
    {
     "name": "stdin",
     "output_type": "stream",
     "text": [
      "User:  exit\n"
     ]
    },
    {
     "name": "stdout",
     "output_type": "stream",
     "text": [
      "Goodbye!\n"
     ]
    }
   ],
   "source": [
    "from langchain_core.messages import BaseMessage\n",
    "\n",
    "# 进入一个无限循环，用于模拟持续的对话\n",
    "while True:\n",
    "    # 获取用户输入\n",
    "    user_input = input(\"User: \")\n",
    "    \n",
    "    # 如果用户输入 \"quit\"、\"exit\" 或 \"q\"，则退出循环，结束对话\n",
    "    if user_input.lower() in [\"quit\", \"exit\", \"q\"]:\n",
    "        print(\"Goodbye!\")  # 打印告别语\n",
    "        break  # 退出循环\n",
    "\n",
    "    # 使用 graph.stream 处理用户输入，并生成机器人的回复\n",
    "    # \"messages\" 列表中包含用户的输入，传递给对话系统\n",
    "    for event in graph.stream({\"messages\": [(\"user\", user_input)]}):\n",
    "        \n",
    "        # 遍历 event 的所有值，检查是否是 BaseMessage 类型的消息\n",
    "        for value in event.values():\n",
    "            if isinstance(value[\"messages\"][-1], BaseMessage):\n",
    "                # 如果消息是 BaseMessage 类型，则打印机器人的回复\n",
    "                print(\"Assistant:\", value[\"messages\"][-1].content)\n"
   ]
  },
  {
   "cell_type": "code",
   "execution_count": null,
   "id": "0354cd58-6270-45ed-8cd1-7898294b94a6",
   "metadata": {},
   "outputs": [],
   "source": []
  },
  {
   "cell_type": "markdown",
   "id": "427ea43e-9ddf-48ce-a6c7-14b31c5de507",
   "metadata": {},
   "source": [
    "## Result compare \n",
    "\n",
    "### Only Chatbot\n",
    "\n",
    " - no data in LLM, can't answer query\n",
    "\n",
    "```\n",
    "  Type your query: 中国队在2024巴黎奥运会获得多少奖牌？\n",
    "  AI Message: 截至我的知识截止日期（2023年10月），2024年巴黎奥运会还未举行，因此无法提供中国队获得奖牌的具体数量。巴黎奥运会将于2024年7月26 日至8月11日举行，届时会有关于各国代表队和运动员表现的最新资讯。请关注相关体育新闻以获取最新的赛事结果和奖牌统计。\n",
    "  Type your query: exit\n",
    "  Good bye\n",
    "```\n",
    "\n",
    "### Chatbot with Tools \n",
    "\n",
    " - Can answer query, via searching question from internet.\n",
    "\n",
    "```\n",
    " User:  中国队在2024巴黎奥运会获得多少块奖牌？\n",
    " Assistant: \n",
    " Assistant: [{\"url\": \"https://www.usatoday.com/story/sports/olympics/2024/07/24/olympic-medal-count-by-country/74441212007/\", \"content\": \"2024 Paris Olympics: Follow USA TODAY's coverage of the biggest names and stories of the Games. 1. USA \\u2014 126 (40 gold, 44 silver, 42 bronze) 2. China \\u2014 91 (40 gold, 27 silver, 24 bronze) 3 ...\"}, {\"url\": \"https://apnews.com/article/2024-olympics-medals-united-states-china-e9f013a206e0de69c41686ee122f425a\", \"content\": \"Updated 11:10 PM PDT, August 11, 2024. PARIS (AP) \\u2014 The contest for most gold medals at the Paris Olympics ended in a 40-40 tie between China and the United States. But the U.S. topped the medals table with a whopping 126 overall, compared to 91 for China. At the Tokyo Games, the U.S. also edged China in the medal count, finishing with 113 ...\"}]\n",
    " Assistant: 在2024年巴黎奥运会上，中国队共获得91块奖牌，其中包括40枚金牌、27枚银牌和24枚铜牌。\n",
    " User:  bye\n",
    " Assistant: Goodbye! If you have any more questions in the future, feel free to ask. Have a great day!\n",
    " User:  exit\n",
    " Goodbye!\n",
    "```"
   ]
  },
  {
   "cell_type": "code",
   "execution_count": null,
   "id": "cecc8c1f-5987-41d1-951e-94e6ae23285d",
   "metadata": {},
   "outputs": [],
   "source": []
  },
  {
   "cell_type": "code",
   "execution_count": null,
   "id": "312cdb64-5b17-4b15-9fa1-14dfb8570032",
   "metadata": {},
   "outputs": [],
   "source": []
  },
  {
   "cell_type": "code",
   "execution_count": null,
   "id": "72b07244-9043-47de-876c-cd4395f8c12e",
   "metadata": {},
   "outputs": [],
   "source": []
  },
  {
   "cell_type": "code",
   "execution_count": null,
   "id": "e908154e-1371-457f-a1da-c08c28a2a3e3",
   "metadata": {},
   "outputs": [],
   "source": []
  },
  {
   "cell_type": "code",
   "execution_count": null,
   "id": "32f9e88a-dab2-429e-8a78-5a0e8b1522e0",
   "metadata": {},
   "outputs": [],
   "source": []
  }
 ],
 "metadata": {
  "kernelspec": {
   "display_name": "Python 3 (ipykernel)",
   "language": "python",
   "name": "python3"
  },
  "language_info": {
   "codemirror_mode": {
    "name": "ipython",
    "version": 3
   },
   "file_extension": ".py",
   "mimetype": "text/x-python",
   "name": "python",
   "nbconvert_exporter": "python",
   "pygments_lexer": "ipython3",
   "version": "3.11.3"
  }
 },
 "nbformat": 4,
 "nbformat_minor": 5
}
